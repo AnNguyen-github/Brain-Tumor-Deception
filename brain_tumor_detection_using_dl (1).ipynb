{
  "metadata": {
    "kernelspec": {
      "language": "python",
      "display_name": "Python 3",
      "name": "python3"
    },
    "language_info": {
      "name": "python",
      "version": "3.7.6",
      "mimetype": "text/x-python",
      "codemirror_mode": {
        "name": "ipython",
        "version": 3
      },
      "pygments_lexer": "ipython3",
      "nbconvert_exporter": "python",
      "file_extension": ".py"
    },
    "colab": {
      "name": "brain-tumor-detection-using-dl.ipynb",
      "provenance": [],
      "collapsed_sections": []
    }
  },
  "nbformat_minor": 0,
  "nbformat": 4,
  "cells": [
    {
      "cell_type": "code",
      "source": [
        "# This Python 3 environment comes with many helpful analytics libraries installed\n",
        "# It is defined by the kaggle/python Docker image: https://github.com/kaggle/docker-python\n",
        "# For example, here's several helpful packages to load\n",
        "\n",
        "import numpy as np # linear algebra\n",
        "import pandas as pd # data processing, CSV file I/O (e.g. pd.read_csv)\n",
        "\n",
        "# Input data files are available in the read-only \"../input/\" directory\n",
        "# For example, running this (by clicking run or pressing Shift+Enter) will list all files under the input directory\n",
        "\n",
        "import os\n",
        "# for dirname, _, filenames in os.walk('/kaggle/input'):\n",
        "#     for filename in filenames:\n",
        "#         os.path.join(dirname, filename)\n",
        "\n",
        "# You can write up to 20GB to the current directory (/kaggle/working/) that gets preserved as output when you create a version using \"Save & Run All\" \n",
        "# You can also write temporary files to /kaggle/temp/, but they won't be saved outside of the current session"
      ],
      "metadata": {
        "_uuid": "8f2839f25d086af736a60e9eeb907d3b93b6e0e5",
        "_cell_guid": "b1076dfc-b9ad-4769-8c92-a6c4dae69d19",
        "execution": {
          "iopub.status.busy": "2021-06-03T15:16:11.521133Z",
          "iopub.execute_input": "2021-06-03T15:16:11.521577Z",
          "iopub.status.idle": "2021-06-03T15:16:11.527994Z",
          "shell.execute_reply.started": "2021-06-03T15:16:11.521535Z",
          "shell.execute_reply": "2021-06-03T15:16:11.526366Z"
        },
        "trusted": true,
        "id": "9CEgF2kz1gEh"
      },
      "execution_count": null,
      "outputs": []
    },
    {
      "cell_type": "markdown",
      "source": [
        "## Chèn thư viện"
      ],
      "metadata": {
        "id": "f8eF_vrd1gEj"
      }
    },
    {
      "cell_type": "code",
      "source": [
        "import matplotlib.pyplot as plt\n",
        "import seaborn as sns\n",
        "from skimage.io import imread\n",
        "from sklearn.model_selection import train_test_split\n",
        "import keras\n",
        "from keras import Sequential\n",
        "from tensorflow.keras.applications.mobilenet import MobileNet\n",
        "from keras.layers import Dense\n",
        "from keras.preprocessing import image\n",
        "\n"
      ],
      "metadata": {
        "_uuid": "d629ff2d2480ee46fbb7e2d37f6b5fab8052498a",
        "_cell_guid": "79c7e3d0-c299-4dcb-8224-4455121ee9b0",
        "execution": {
          "iopub.status.busy": "2021-06-03T15:16:17.205089Z",
          "iopub.execute_input": "2021-06-03T15:16:17.205602Z",
          "iopub.status.idle": "2021-06-03T15:16:17.211311Z",
          "shell.execute_reply.started": "2021-06-03T15:16:17.205568Z",
          "shell.execute_reply": "2021-06-03T15:16:17.210594Z"
        },
        "trusted": true,
        "id": "vMiuY32X1gEr"
      },
      "execution_count": null,
      "outputs": []
    },
    {
      "cell_type": "code",
      "source": [
        "from google.colab import drive\n",
        "drive.mount('/content/drive')"
      ],
      "metadata": {
        "colab": {
          "base_uri": "https://localhost:8080/"
        },
        "id": "75dOgAOv3C5X",
        "outputId": "cae294ba-94f6-4681-a29d-0ff9eea324c5"
      },
      "execution_count": null,
      "outputs": [
        {
          "output_type": "stream",
          "name": "stdout",
          "text": [
            "Mounted at /content/drive\n"
          ]
        }
      ]
    },
    {
      "cell_type": "code",
      "source": [
        "brain_df = pd.read_csv('/content/drive/MyDrive/Brain Tumor.csv',usecols=[0,1])\n",
        "brain_df.head()"
      ],
      "metadata": {
        "execution": {
          "iopub.status.busy": "2021-06-03T15:16:20.692678Z",
          "iopub.execute_input": "2021-06-03T15:16:20.693280Z",
          "iopub.status.idle": "2021-06-03T15:16:20.733235Z",
          "shell.execute_reply.started": "2021-06-03T15:16:20.693226Z",
          "shell.execute_reply": "2021-06-03T15:16:20.732189Z"
        },
        "trusted": true,
        "id": "9xmMA5We1gEr",
        "outputId": "a1f5d802-709b-4a5b-ef83-d83ae16d8cc0",
        "colab": {
          "base_uri": "https://localhost:8080/",
          "height": 206
        }
      },
      "execution_count": null,
      "outputs": [
        {
          "output_type": "execute_result",
          "data": {
            "text/plain": [
              "    Image  Class\n",
              "0  Image1      0\n",
              "1  Image2      0\n",
              "2  Image3      1\n",
              "3  Image4      1\n",
              "4  Image5      0"
            ],
            "text/html": [
              "\n",
              "  <div id=\"df-e9ed0576-b4c7-412d-b05f-e26821e0f127\">\n",
              "    <div class=\"colab-df-container\">\n",
              "      <div>\n",
              "<style scoped>\n",
              "    .dataframe tbody tr th:only-of-type {\n",
              "        vertical-align: middle;\n",
              "    }\n",
              "\n",
              "    .dataframe tbody tr th {\n",
              "        vertical-align: top;\n",
              "    }\n",
              "\n",
              "    .dataframe thead th {\n",
              "        text-align: right;\n",
              "    }\n",
              "</style>\n",
              "<table border=\"1\" class=\"dataframe\">\n",
              "  <thead>\n",
              "    <tr style=\"text-align: right;\">\n",
              "      <th></th>\n",
              "      <th>Image</th>\n",
              "      <th>Class</th>\n",
              "    </tr>\n",
              "  </thead>\n",
              "  <tbody>\n",
              "    <tr>\n",
              "      <th>0</th>\n",
              "      <td>Image1</td>\n",
              "      <td>0</td>\n",
              "    </tr>\n",
              "    <tr>\n",
              "      <th>1</th>\n",
              "      <td>Image2</td>\n",
              "      <td>0</td>\n",
              "    </tr>\n",
              "    <tr>\n",
              "      <th>2</th>\n",
              "      <td>Image3</td>\n",
              "      <td>1</td>\n",
              "    </tr>\n",
              "    <tr>\n",
              "      <th>3</th>\n",
              "      <td>Image4</td>\n",
              "      <td>1</td>\n",
              "    </tr>\n",
              "    <tr>\n",
              "      <th>4</th>\n",
              "      <td>Image5</td>\n",
              "      <td>0</td>\n",
              "    </tr>\n",
              "  </tbody>\n",
              "</table>\n",
              "</div>\n",
              "      <button class=\"colab-df-convert\" onclick=\"convertToInteractive('df-e9ed0576-b4c7-412d-b05f-e26821e0f127')\"\n",
              "              title=\"Convert this dataframe to an interactive table.\"\n",
              "              style=\"display:none;\">\n",
              "        \n",
              "  <svg xmlns=\"http://www.w3.org/2000/svg\" height=\"24px\"viewBox=\"0 0 24 24\"\n",
              "       width=\"24px\">\n",
              "    <path d=\"M0 0h24v24H0V0z\" fill=\"none\"/>\n",
              "    <path d=\"M18.56 5.44l.94 2.06.94-2.06 2.06-.94-2.06-.94-.94-2.06-.94 2.06-2.06.94zm-11 1L8.5 8.5l.94-2.06 2.06-.94-2.06-.94L8.5 2.5l-.94 2.06-2.06.94zm10 10l.94 2.06.94-2.06 2.06-.94-2.06-.94-.94-2.06-.94 2.06-2.06.94z\"/><path d=\"M17.41 7.96l-1.37-1.37c-.4-.4-.92-.59-1.43-.59-.52 0-1.04.2-1.43.59L10.3 9.45l-7.72 7.72c-.78.78-.78 2.05 0 2.83L4 21.41c.39.39.9.59 1.41.59.51 0 1.02-.2 1.41-.59l7.78-7.78 2.81-2.81c.8-.78.8-2.07 0-2.86zM5.41 20L4 18.59l7.72-7.72 1.47 1.35L5.41 20z\"/>\n",
              "  </svg>\n",
              "      </button>\n",
              "      \n",
              "  <style>\n",
              "    .colab-df-container {\n",
              "      display:flex;\n",
              "      flex-wrap:wrap;\n",
              "      gap: 12px;\n",
              "    }\n",
              "\n",
              "    .colab-df-convert {\n",
              "      background-color: #E8F0FE;\n",
              "      border: none;\n",
              "      border-radius: 50%;\n",
              "      cursor: pointer;\n",
              "      display: none;\n",
              "      fill: #1967D2;\n",
              "      height: 32px;\n",
              "      padding: 0 0 0 0;\n",
              "      width: 32px;\n",
              "    }\n",
              "\n",
              "    .colab-df-convert:hover {\n",
              "      background-color: #E2EBFA;\n",
              "      box-shadow: 0px 1px 2px rgba(60, 64, 67, 0.3), 0px 1px 3px 1px rgba(60, 64, 67, 0.15);\n",
              "      fill: #174EA6;\n",
              "    }\n",
              "\n",
              "    [theme=dark] .colab-df-convert {\n",
              "      background-color: #3B4455;\n",
              "      fill: #D2E3FC;\n",
              "    }\n",
              "\n",
              "    [theme=dark] .colab-df-convert:hover {\n",
              "      background-color: #434B5C;\n",
              "      box-shadow: 0px 1px 3px 1px rgba(0, 0, 0, 0.15);\n",
              "      filter: drop-shadow(0px 1px 2px rgba(0, 0, 0, 0.3));\n",
              "      fill: #FFFFFF;\n",
              "    }\n",
              "  </style>\n",
              "\n",
              "      <script>\n",
              "        const buttonEl =\n",
              "          document.querySelector('#df-e9ed0576-b4c7-412d-b05f-e26821e0f127 button.colab-df-convert');\n",
              "        buttonEl.style.display =\n",
              "          google.colab.kernel.accessAllowed ? 'block' : 'none';\n",
              "\n",
              "        async function convertToInteractive(key) {\n",
              "          const element = document.querySelector('#df-e9ed0576-b4c7-412d-b05f-e26821e0f127');\n",
              "          const dataTable =\n",
              "            await google.colab.kernel.invokeFunction('convertToInteractive',\n",
              "                                                     [key], {});\n",
              "          if (!dataTable) return;\n",
              "\n",
              "          const docLinkHtml = 'Like what you see? Visit the ' +\n",
              "            '<a target=\"_blank\" href=https://colab.research.google.com/notebooks/data_table.ipynb>data table notebook</a>'\n",
              "            + ' to learn more about interactive tables.';\n",
              "          element.innerHTML = '';\n",
              "          dataTable['output_type'] = 'display_data';\n",
              "          await google.colab.output.renderOutput(dataTable, element);\n",
              "          const docLink = document.createElement('div');\n",
              "          docLink.innerHTML = docLinkHtml;\n",
              "          element.appendChild(docLink);\n",
              "        }\n",
              "      </script>\n",
              "    </div>\n",
              "  </div>\n",
              "  "
            ]
          },
          "metadata": {},
          "execution_count": 5
        }
      ]
    },
    {
      "cell_type": "markdown",
      "source": [
        "## Hiểu sâu hơn về tập dữ liệu của chúng tôi\n",
        "\n",
        "## Kiểm tra xem có bất kỳ giá trị null nào hay không"
      ],
      "metadata": {
        "id": "lpQueVZg1gEs"
      }
    },
    {
      "cell_type": "code",
      "source": [
        "brain_df.isna().sum()"
      ],
      "metadata": {
        "execution": {
          "iopub.status.busy": "2021-06-03T15:16:24.381083Z",
          "iopub.execute_input": "2021-06-03T15:16:24.381445Z",
          "iopub.status.idle": "2021-06-03T15:16:24.391504Z",
          "shell.execute_reply.started": "2021-06-03T15:16:24.381414Z",
          "shell.execute_reply": "2021-06-03T15:16:24.390466Z"
        },
        "trusted": true,
        "id": "GdC3MEEY1gEt",
        "outputId": "809a0aa8-0bd3-4f22-f10b-20152c14b53a",
        "colab": {
          "base_uri": "https://localhost:8080/"
        }
      },
      "execution_count": null,
      "outputs": [
        {
          "output_type": "execute_result",
          "data": {
            "text/plain": [
              "Image    0\n",
              "Class    0\n",
              "dtype: int64"
            ]
          },
          "metadata": {},
          "execution_count": 6
        }
      ]
    },
    {
      "cell_type": "markdown",
      "source": [
        "### Kiểm tra sự mất cân bằng hay không\n",
        "\n",
        "## chúng ta có thể giải quyết nó sau này bằng cách thực hiện tăng cường dữ liệu"
      ],
      "metadata": {
        "id": "I6d7pHJP1gEt"
      }
    },
    {
      "cell_type": "code",
      "source": [
        "brain_df['Class'].value_counts()"
      ],
      "metadata": {
        "execution": {
          "iopub.status.busy": "2021-06-03T15:16:28.164885Z",
          "iopub.execute_input": "2021-06-03T15:16:28.165242Z",
          "iopub.status.idle": "2021-06-03T15:16:28.176423Z",
          "shell.execute_reply.started": "2021-06-03T15:16:28.165211Z",
          "shell.execute_reply": "2021-06-03T15:16:28.174900Z"
        },
        "trusted": true,
        "id": "Vkr3KOPR1gEt",
        "outputId": "411ecd22-0013-42ac-9bdf-6d519f91fce5",
        "colab": {
          "base_uri": "https://localhost:8080/"
        }
      },
      "execution_count": null,
      "outputs": [
        {
          "output_type": "execute_result",
          "data": {
            "text/plain": [
              "0    2079\n",
              "1    1683\n",
              "Name: Class, dtype: int64"
            ]
          },
          "metadata": {},
          "execution_count": 7
        }
      ]
    },
    {
      "cell_type": "code",
      "source": [
        "#plot the value count\n",
        "sns.countplot(brain_df['Class'])"
      ],
      "metadata": {
        "execution": {
          "iopub.status.busy": "2021-06-03T15:16:31.036872Z",
          "iopub.execute_input": "2021-06-03T15:16:31.037247Z",
          "iopub.status.idle": "2021-06-03T15:16:31.165124Z",
          "shell.execute_reply.started": "2021-06-03T15:16:31.037217Z",
          "shell.execute_reply": "2021-06-03T15:16:31.163934Z"
        },
        "trusted": true,
        "id": "rB6mdDIh1gEu",
        "outputId": "392f7fb7-a5e3-4871-fdc1-2ebe8755507e",
        "colab": {
          "base_uri": "https://localhost:8080/",
          "height": 351
        }
      },
      "execution_count": null,
      "outputs": [
        {
          "output_type": "stream",
          "name": "stderr",
          "text": [
            "/usr/local/lib/python3.7/dist-packages/seaborn/_decorators.py:43: FutureWarning: Pass the following variable as a keyword arg: x. From version 0.12, the only valid positional argument will be `data`, and passing other arguments without an explicit keyword will result in an error or misinterpretation.\n",
            "  FutureWarning\n"
          ]
        },
        {
          "output_type": "execute_result",
          "data": {
            "text/plain": [
              "<matplotlib.axes._subplots.AxesSubplot at 0x7faf5d3abf90>"
            ]
          },
          "metadata": {},
          "execution_count": 8
        },
        {
          "output_type": "display_data",
          "data": {
            "text/plain": [
              "<Figure size 432x288 with 1 Axes>"
            ],
            "image/png": "[encoded data removed]"
          },
          "metadata": {
            "needs_background": "light"
          }
        }
      ]
    },
    {
      "cell_type": "markdown",
      "source": [
        "## Get our data ready!!"
      ],
      "metadata": {
        "id": "oeoodf1N1gEu"
      }
    },
    {
      "cell_type": "code",
      "source": [
        "path_list = []\n",
        "base_path = '/content/drive/MyDrive/Brain Tumor/Brain Tumor'\n",
        "for entry in os.listdir(base_path):\n",
        "    path_list.append( os.path.join(base_path,entry))"
      ],
      "metadata": {
        "execution": {
          "iopub.status.busy": "2021-06-03T15:16:34.376923Z",
          "iopub.execute_input": "2021-06-03T15:16:34.377292Z",
          "iopub.status.idle": "2021-06-03T15:16:34.394112Z",
          "shell.execute_reply.started": "2021-06-03T15:16:34.377261Z",
          "shell.execute_reply": "2021-06-03T15:16:34.392902Z"
        },
        "trusted": true,
        "id": "gc9H4kK91gEu"
      },
      "execution_count": null,
      "outputs": []
    },
    {
      "cell_type": "code",
      "source": [
        "#create path dictonary and then map itto brain_df['pathes']\n",
        "pathes_dict={os.path.splitext(os.path.basename(x))[0]: x for x in path_list}\n",
        "brain_df['pathes'] = brain_df['Image'].map(pathes_dict.get)"
      ],
      "metadata": {
        "execution": {
          "iopub.status.busy": "2021-06-03T15:16:38.561042Z",
          "iopub.execute_input": "2021-06-03T15:16:38.561411Z",
          "iopub.status.idle": "2021-06-03T15:16:38.582527Z",
          "shell.execute_reply.started": "2021-06-03T15:16:38.561380Z",
          "shell.execute_reply": "2021-06-03T15:16:38.581216Z"
        },
        "trusted": true,
        "id": "7g3dYIDV1gEv"
      },
      "execution_count": null,
      "outputs": []
    },
    {
      "cell_type": "code",
      "source": [
        "brain_df.head()"
      ],
      "metadata": {
        "execution": {
          "iopub.status.busy": "2021-06-03T15:16:42.192747Z",
          "iopub.execute_input": "2021-06-03T15:16:42.193165Z",
          "iopub.status.idle": "2021-06-03T15:16:42.205399Z",
          "shell.execute_reply.started": "2021-06-03T15:16:42.193130Z",
          "shell.execute_reply": "2021-06-03T15:16:42.204037Z"
        },
        "trusted": true,
        "id": "K1yyVqv_1gEv",
        "outputId": "f94034af-35ec-4673-c7ac-90963a4acc53",
        "colab": {
          "base_uri": "https://localhost:8080/",
          "height": 206
        }
      },
      "execution_count": null,
      "outputs": [
        {
          "output_type": "execute_result",
          "data": {
            "text/plain": [
              "    Image  Class                                             pathes\n",
              "0  Image1      0  /content/drive/MyDrive/Brain Tumor/Brain Tumor...\n",
              "1  Image2      0  /content/drive/MyDrive/Brain Tumor/Brain Tumor...\n",
              "2  Image3      1  /content/drive/MyDrive/Brain Tumor/Brain Tumor...\n",
              "3  Image4      1  /content/drive/MyDrive/Brain Tumor/Brain Tumor...\n",
              "4  Image5      0  /content/drive/MyDrive/Brain Tumor/Brain Tumor..."
            ],
            "text/html": [
              "\n",
              "  <div id=\"df-f9138a94-7209-4f81-b1eb-a6afb052e823\">\n",
              "    <div class=\"colab-df-container\">\n",
              "      <div>\n",
              "<style scoped>\n",
              "    .dataframe tbody tr th:only-of-type {\n",
              "        vertical-align: middle;\n",
              "    }\n",
              "\n",
              "    .dataframe tbody tr th {\n",
              "        vertical-align: top;\n",
              "    }\n",
              "\n",
              "    .dataframe thead th {\n",
              "        text-align: right;\n",
              "    }\n",
              "</style>\n",
              "<table border=\"1\" class=\"dataframe\">\n",
              "  <thead>\n",
              "    <tr style=\"text-align: right;\">\n",
              "      <th></th>\n",
              "      <th>Image</th>\n",
              "      <th>Class</th>\n",
              "      <th>pathes</th>\n",
              "    </tr>\n",
              "  </thead>\n",
              "  <tbody>\n",
              "    <tr>\n",
              "      <th>0</th>\n",
              "      <td>Image1</td>\n",
              "      <td>0</td>\n",
              "      <td>/content/drive/MyDrive/Brain Tumor/Brain Tumor...</td>\n",
              "    </tr>\n",
              "    <tr>\n",
              "      <th>1</th>\n",
              "      <td>Image2</td>\n",
              "      <td>0</td>\n",
              "      <td>/content/drive/MyDrive/Brain Tumor/Brain Tumor...</td>\n",
              "    </tr>\n",
              "    <tr>\n",
              "      <th>2</th>\n",
              "      <td>Image3</td>\n",
              "      <td>1</td>\n",
              "      <td>/content/drive/MyDrive/Brain Tumor/Brain Tumor...</td>\n",
              "    </tr>\n",
              "    <tr>\n",
              "      <th>3</th>\n",
              "      <td>Image4</td>\n",
              "      <td>1</td>\n",
              "      <td>/content/drive/MyDrive/Brain Tumor/Brain Tumor...</td>\n",
              "    </tr>\n",
              "    <tr>\n",
              "      <th>4</th>\n",
              "      <td>Image5</td>\n",
              "      <td>0</td>\n",
              "      <td>/content/drive/MyDrive/Brain Tumor/Brain Tumor...</td>\n",
              "    </tr>\n",
              "  </tbody>\n",
              "</table>\n",
              "</div>\n",
              "      <button class=\"colab-df-convert\" onclick=\"convertToInteractive('df-f9138a94-7209-4f81-b1eb-a6afb052e823')\"\n",
              "              title=\"Convert this dataframe to an interactive table.\"\n",
              "              style=\"display:none;\">\n",
              "        \n",
              "  <svg xmlns=\"http://www.w3.org/2000/svg\" height=\"24px\"viewBox=\"0 0 24 24\"\n",
              "       width=\"24px\">\n",
              "    <path d=\"M0 0h24v24H0V0z\" fill=\"none\"/>\n",
              "    <path d=\"M18.56 5.44l.94 2.06.94-2.06 2.06-.94-2.06-.94-.94-2.06-.94 2.06-2.06.94zm-11 1L8.5 8.5l.94-2.06 2.06-.94-2.06-.94L8.5 2.5l-.94 2.06-2.06.94zm10 10l.94 2.06.94-2.06 2.06-.94-2.06-.94-.94-2.06-.94 2.06-2.06.94z\"/><path d=\"M17.41 7.96l-1.37-1.37c-.4-.4-.92-.59-1.43-.59-.52 0-1.04.2-1.43.59L10.3 9.45l-7.72 7.72c-.78.78-.78 2.05 0 2.83L4 21.41c.39.39.9.59 1.41.59.51 0 1.02-.2 1.41-.59l7.78-7.78 2.81-2.81c.8-.78.8-2.07 0-2.86zM5.41 20L4 18.59l7.72-7.72 1.47 1.35L5.41 20z\"/>\n",
              "  </svg>\n",
              "      </button>\n",
              "      \n",
              "  <style>\n",
              "    .colab-df-container {\n",
              "      display:flex;\n",
              "      flex-wrap:wrap;\n",
              "      gap: 12px;\n",
              "    }\n",
              "\n",
              "    .colab-df-convert {\n",
              "      background-color: #E8F0FE;\n",
              "      border: none;\n",
              "      border-radius: 50%;\n",
              "      cursor: pointer;\n",
              "      display: none;\n",
              "      fill: #1967D2;\n",
              "      height: 32px;\n",
              "      padding: 0 0 0 0;\n",
              "      width: 32px;\n",
              "    }\n",
              "\n",
              "    .colab-df-convert:hover {\n",
              "      background-color: #E2EBFA;\n",
              "      box-shadow: 0px 1px 2px rgba(60, 64, 67, 0.3), 0px 1px 3px 1px rgba(60, 64, 67, 0.15);\n",
              "      fill: #174EA6;\n",
              "    }\n",
              "\n",
              "    [theme=dark] .colab-df-convert {\n",
              "      background-color: #3B4455;\n",
              "      fill: #D2E3FC;\n",
              "    }\n",
              "\n",
              "    [theme=dark] .colab-df-convert:hover {\n",
              "      background-color: #434B5C;\n",
              "      box-shadow: 0px 1px 3px 1px rgba(0, 0, 0, 0.15);\n",
              "      filter: drop-shadow(0px 1px 2px rgba(0, 0, 0, 0.3));\n",
              "      fill: #FFFFFF;\n",
              "    }\n",
              "  </style>\n",
              "\n",
              "      <script>\n",
              "        const buttonEl =\n",
              "          document.querySelector('#df-f9138a94-7209-4f81-b1eb-a6afb052e823 button.colab-df-convert');\n",
              "        buttonEl.style.display =\n",
              "          google.colab.kernel.accessAllowed ? 'block' : 'none';\n",
              "\n",
              "        async function convertToInteractive(key) {\n",
              "          const element = document.querySelector('#df-f9138a94-7209-4f81-b1eb-a6afb052e823');\n",
              "          const dataTable =\n",
              "            await google.colab.kernel.invokeFunction('convertToInteractive',\n",
              "                                                     [key], {});\n",
              "          if (!dataTable) return;\n",
              "\n",
              "          const docLinkHtml = 'Like what you see? Visit the ' +\n",
              "            '<a target=\"_blank\" href=https://colab.research.google.com/notebooks/data_table.ipynb>data table notebook</a>'\n",
              "            + ' to learn more about interactive tables.';\n",
              "          element.innerHTML = '';\n",
              "          dataTable['output_type'] = 'display_data';\n",
              "          await google.colab.output.renderOutput(dataTable, element);\n",
              "          const docLink = document.createElement('div');\n",
              "          docLink.innerHTML = docLinkHtml;\n",
              "          element.appendChild(docLink);\n",
              "        }\n",
              "      </script>\n",
              "    </div>\n",
              "  </div>\n",
              "  "
            ]
          },
          "metadata": {},
          "execution_count": 11
        }
      ]
    },
    {
      "cell_type": "markdown",
      "source": [
        "## In một số mẫu trong dữ liệu"
      ],
      "metadata": {
        "id": "mqekl2x21gEv"
      }
    },
    {
      "cell_type": "code",
      "source": [
        "\n",
        "for x in range (0 ,9):\n",
        "    img = imread(brain_df['pathes'][x])\n",
        "    plt.imshow(img)\n",
        "    plt.subplot(3,3,x+1)"
      ],
      "metadata": {
        "execution": {
          "iopub.status.busy": "2021-06-03T15:16:45.041221Z",
          "iopub.execute_input": "2021-06-03T15:16:45.041620Z",
          "iopub.status.idle": "2021-06-03T15:16:45.999383Z",
          "shell.execute_reply.started": "2021-06-03T15:16:45.041583Z",
          "shell.execute_reply": "2021-06-03T15:16:45.998628Z"
        },
        "trusted": true,
        "id": "6ybAvhKQ1gEw",
        "outputId": "400d77e8-7f0c-4925-f98d-52deb9699632",
        "colab": {
          "base_uri": "https://localhost:8080/",
          "height": 269
        }
      },
      "execution_count": null,
      "outputs": [
        {
          "output_type": "display_data",
          "data": {
            "text/plain": [
              "<Figure size 432x288 with 9 Axes>"
            ],
            "image/png": "[encoded data removed]"
          },
          "metadata": {
            "needs_background": "light"
          }
        }
      ]
    },
    {
      "cell_type": "code",
      "source": [
        "from PIL.Image import open\n",
        "brain_df['pixels']=brain_df['pathes'].map(lambda x:np.asarray(open(x).resize((224,224))))\n"
      ],
      "metadata": {
        "execution": {
          "iopub.status.busy": "2021-06-03T15:16:49.184857Z",
          "iopub.execute_input": "2021-06-03T15:16:49.185346Z",
          "iopub.status.idle": "2021-06-03T15:16:59.140062Z",
          "shell.execute_reply.started": "2021-06-03T15:16:49.185315Z",
          "shell.execute_reply": "2021-06-03T15:16:59.139062Z"
        },
        "trusted": true,
        "id": "lPtuGgst1gEw"
      },
      "execution_count": null,
      "outputs": []
    },
    {
      "cell_type": "code",
      "source": [
        "brain_df.head()"
      ],
      "metadata": {
        "execution": {
          "iopub.status.busy": "2021-06-03T15:17:02.024528Z",
          "iopub.execute_input": "2021-06-03T15:17:02.024894Z",
          "iopub.status.idle": "2021-06-03T15:17:19.657162Z",
          "shell.execute_reply.started": "2021-06-03T15:17:02.024863Z",
          "shell.execute_reply": "2021-06-03T15:17:19.656158Z"
        },
        "trusted": true,
        "id": "DsjtCSKO1gEw",
        "outputId": "406ef3c8-c355-4142-cc8c-d6e82f5f2831",
        "colab": {
          "base_uri": "https://localhost:8080/",
          "height": 206
        }
      },
      "execution_count": null,
      "outputs": [
        {
          "output_type": "execute_result",
          "data": {
            "text/plain": [
              "    Image  Class                                             pathes  \\\n",
              "0  Image1      0  /content/drive/MyDrive/Brain Tumor/Brain Tumor...   \n",
              "1  Image2      0  /content/drive/MyDrive/Brain Tumor/Brain Tumor...   \n",
              "2  Image3      1  /content/drive/MyDrive/Brain Tumor/Brain Tumor...   \n",
              "3  Image4      1  /content/drive/MyDrive/Brain Tumor/Brain Tumor...   \n",
              "4  Image5      0  /content/drive/MyDrive/Brain Tumor/Brain Tumor...   \n",
              "\n",
              "                                              pixels  \n",
              "0  [[[0, 0, 0], [0, 0, 0], [0, 0, 0], [0, 0, 0], ...  \n",
              "1  [[[0, 0, 0], [0, 0, 0], [0, 0, 0], [0, 0, 0], ...  \n",
              "2  [[[0, 0, 0], [0, 0, 0], [0, 0, 0], [0, 0, 0], ...  \n",
              "3  [[[0, 0, 0], [0, 0, 0], [0, 0, 0], [0, 0, 0], ...  \n",
              "4  [[[0, 0, 0], [0, 0, 0], [0, 0, 0], [0, 0, 0], ...  "
            ],
            "text/html": [
              "\n",
              "  <div id=\"df-7fe90aea-1761-401c-bf59-fba9828f0a47\">\n",
              "    <div class=\"colab-df-container\">\n",
              "      <div>\n",
              "<style scoped>\n",
              "    .dataframe tbody tr th:only-of-type {\n",
              "        vertical-align: middle;\n",
              "    }\n",
              "\n",
              "    .dataframe tbody tr th {\n",
              "        vertical-align: top;\n",
              "    }\n",
              "\n",
              "    .dataframe thead th {\n",
              "        text-align: right;\n",
              "    }\n",
              "</style>\n",
              "<table border=\"1\" class=\"dataframe\">\n",
              "  <thead>\n",
              "    <tr style=\"text-align: right;\">\n",
              "      <th></th>\n",
              "      <th>Image</th>\n",
              "      <th>Class</th>\n",
              "      <th>pathes</th>\n",
              "      <th>pixels</th>\n",
              "    </tr>\n",
              "  </thead>\n",
              "  <tbody>\n",
              "    <tr>\n",
              "      <th>0</th>\n",
              "      <td>Image1</td>\n",
              "      <td>0</td>\n",
              "      <td>/content/drive/MyDrive/Brain Tumor/Brain Tumor...</td>\n",
              "      <td>[[[0, 0, 0], [0, 0, 0], [0, 0, 0], [0, 0, 0], ...</td>\n",
              "    </tr>\n",
              "    <tr>\n",
              "      <th>1</th>\n",
              "      <td>Image2</td>\n",
              "      <td>0</td>\n",
              "      <td>/content/drive/MyDrive/Brain Tumor/Brain Tumor...</td>\n",
              "      <td>[[[0, 0, 0], [0, 0, 0], [0, 0, 0], [0, 0, 0], ...</td>\n",
              "    </tr>\n",
              "    <tr>\n",
              "      <th>2</th>\n",
              "      <td>Image3</td>\n",
              "      <td>1</td>\n",
              "      <td>/content/drive/MyDrive/Brain Tumor/Brain Tumor...</td>\n",
              "      <td>[[[0, 0, 0], [0, 0, 0], [0, 0, 0], [0, 0, 0], ...</td>\n",
              "    </tr>\n",
              "    <tr>\n",
              "      <th>3</th>\n",
              "      <td>Image4</td>\n",
              "      <td>1</td>\n",
              "      <td>/content/drive/MyDrive/Brain Tumor/Brain Tumor...</td>\n",
              "      <td>[[[0, 0, 0], [0, 0, 0], [0, 0, 0], [0, 0, 0], ...</td>\n",
              "    </tr>\n",
              "    <tr>\n",
              "      <th>4</th>\n",
              "      <td>Image5</td>\n",
              "      <td>0</td>\n",
              "      <td>/content/drive/MyDrive/Brain Tumor/Brain Tumor...</td>\n",
              "      <td>[[[0, 0, 0], [0, 0, 0], [0, 0, 0], [0, 0, 0], ...</td>\n",
              "    </tr>\n",
              "  </tbody>\n",
              "</table>\n",
              "</div>\n",
              "      <button class=\"colab-df-convert\" onclick=\"convertToInteractive('df-7fe90aea-1761-401c-bf59-fba9828f0a47')\"\n",
              "              title=\"Convert this dataframe to an interactive table.\"\n",
              "              style=\"display:none;\">\n",
              "        \n",
              "  <svg xmlns=\"http://www.w3.org/2000/svg\" height=\"24px\"viewBox=\"0 0 24 24\"\n",
              "       width=\"24px\">\n",
              "    <path d=\"M0 0h24v24H0V0z\" fill=\"none\"/>\n",
              "    <path d=\"M18.56 5.44l.94 2.06.94-2.06 2.06-.94-2.06-.94-.94-2.06-.94 2.06-2.06.94zm-11 1L8.5 8.5l.94-2.06 2.06-.94-2.06-.94L8.5 2.5l-.94 2.06-2.06.94zm10 10l.94 2.06.94-2.06 2.06-.94-2.06-.94-.94-2.06-.94 2.06-2.06.94z\"/><path d=\"M17.41 7.96l-1.37-1.37c-.4-.4-.92-.59-1.43-.59-.52 0-1.04.2-1.43.59L10.3 9.45l-7.72 7.72c-.78.78-.78 2.05 0 2.83L4 21.41c.39.39.9.59 1.41.59.51 0 1.02-.2 1.41-.59l7.78-7.78 2.81-2.81c.8-.78.8-2.07 0-2.86zM5.41 20L4 18.59l7.72-7.72 1.47 1.35L5.41 20z\"/>\n",
              "  </svg>\n",
              "      </button>\n",
              "      \n",
              "  <style>\n",
              "    .colab-df-container {\n",
              "      display:flex;\n",
              "      flex-wrap:wrap;\n",
              "      gap: 12px;\n",
              "    }\n",
              "\n",
              "    .colab-df-convert {\n",
              "      background-color: #E8F0FE;\n",
              "      border: none;\n",
              "      border-radius: 50%;\n",
              "      cursor: pointer;\n",
              "      display: none;\n",
              "      fill: #1967D2;\n",
              "      height: 32px;\n",
              "      padding: 0 0 0 0;\n",
              "      width: 32px;\n",
              "    }\n",
              "\n",
              "    .colab-df-convert:hover {\n",
              "      background-color: #E2EBFA;\n",
              "      box-shadow: 0px 1px 2px rgba(60, 64, 67, 0.3), 0px 1px 3px 1px rgba(60, 64, 67, 0.15);\n",
              "      fill: #174EA6;\n",
              "    }\n",
              "\n",
              "    [theme=dark] .colab-df-convert {\n",
              "      background-color: #3B4455;\n",
              "      fill: #D2E3FC;\n",
              "    }\n",
              "\n",
              "    [theme=dark] .colab-df-convert:hover {\n",
              "      background-color: #434B5C;\n",
              "      box-shadow: 0px 1px 3px 1px rgba(0, 0, 0, 0.15);\n",
              "      filter: drop-shadow(0px 1px 2px rgba(0, 0, 0, 0.3));\n",
              "      fill: #FFFFFF;\n",
              "    }\n",
              "  </style>\n",
              "\n",
              "      <script>\n",
              "        const buttonEl =\n",
              "          document.querySelector('#df-7fe90aea-1761-401c-bf59-fba9828f0a47 button.colab-df-convert');\n",
              "        buttonEl.style.display =\n",
              "          google.colab.kernel.accessAllowed ? 'block' : 'none';\n",
              "\n",
              "        async function convertToInteractive(key) {\n",
              "          const element = document.querySelector('#df-7fe90aea-1761-401c-bf59-fba9828f0a47');\n",
              "          const dataTable =\n",
              "            await google.colab.kernel.invokeFunction('convertToInteractive',\n",
              "                                                     [key], {});\n",
              "          if (!dataTable) return;\n",
              "\n",
              "          const docLinkHtml = 'Like what you see? Visit the ' +\n",
              "            '<a target=\"_blank\" href=https://colab.research.google.com/notebooks/data_table.ipynb>data table notebook</a>'\n",
              "            + ' to learn more about interactive tables.';\n",
              "          element.innerHTML = '';\n",
              "          dataTable['output_type'] = 'display_data';\n",
              "          await google.colab.output.renderOutput(dataTable, element);\n",
              "          const docLink = document.createElement('div');\n",
              "          docLink.innerHTML = docLinkHtml;\n",
              "          element.appendChild(docLink);\n",
              "        }\n",
              "      </script>\n",
              "    </div>\n",
              "  </div>\n",
              "  "
            ]
          },
          "metadata": {},
          "execution_count": 14
        }
      ]
    },
    {
      "cell_type": "markdown",
      "source": [
        "## xử lý trước tập dữ liệu của chúng tôi trước khi sử dụng MobileNet"
      ],
      "metadata": {
        "id": "FPELRc1j1gEx"
      }
    },
    {
      "cell_type": "code",
      "source": [
        "image_list = []\n",
        "for i in range(0,len(brain_df)):\n",
        "    # load image\n",
        "    brain_img = brain_df['pixels'][i].astype(np.float32)\n",
        "    img_array = image.img_to_array(brain_img)\n",
        "     # append to list of all images\n",
        "    image_list.append(keras.applications.mobilenet_v2.preprocess_input(img_array))\n",
        "    \n",
        "# convert image list to single array\n",
        "# Our feature\n",
        "X = np.array(image_list)\n",
        "\n",
        "# print shape of X\n",
        "print(X.shape)"
      ],
      "metadata": {
        "execution": {
          "iopub.status.busy": "2021-06-03T15:17:24.925052Z",
          "iopub.execute_input": "2021-06-03T15:17:24.925573Z",
          "iopub.status.idle": "2021-06-03T15:17:26.776329Z",
          "shell.execute_reply.started": "2021-06-03T15:17:24.925541Z",
          "shell.execute_reply": "2021-06-03T15:17:26.775335Z"
        },
        "trusted": true,
        "id": "EjFyNxIS1gEx",
        "outputId": "bf7b13bd-a008-49a2-d6d2-3001917a60cf",
        "colab": {
          "base_uri": "https://localhost:8080/"
        }
      },
      "execution_count": null,
      "outputs": [
        {
          "output_type": "stream",
          "name": "stdout",
          "text": [
            "(3762, 224, 224, 3)\n"
          ]
        }
      ]
    },
    {
      "cell_type": "code",
      "source": [
        "# get the class label as np.array\n",
        "y = np.array(brain_df.Class)"
      ],
      "metadata": {
        "execution": {
          "iopub.status.busy": "2021-06-03T15:17:29.808674Z",
          "iopub.execute_input": "2021-06-03T15:17:29.809051Z",
          "iopub.status.idle": "2021-06-03T15:17:29.813498Z",
          "shell.execute_reply.started": "2021-06-03T15:17:29.809018Z",
          "shell.execute_reply": "2021-06-03T15:17:29.812344Z"
        },
        "trusted": true,
        "id": "-uD148w41gEx"
      },
      "execution_count": null,
      "outputs": []
    },
    {
      "cell_type": "code",
      "source": [
        "y"
      ],
      "metadata": {
        "execution": {
          "iopub.status.busy": "2021-06-03T15:17:35.533358Z",
          "iopub.execute_input": "2021-06-03T15:17:35.533895Z",
          "iopub.status.idle": "2021-06-03T15:17:35.539567Z",
          "shell.execute_reply.started": "2021-06-03T15:17:35.533858Z",
          "shell.execute_reply": "2021-06-03T15:17:35.538753Z"
        },
        "trusted": true,
        "id": "HF8t990N1gEy",
        "outputId": "90f19dfd-7448-4a91-b6dd-ef0597ac1ac4",
        "colab": {
          "base_uri": "https://localhost:8080/"
        }
      },
      "execution_count": null,
      "outputs": [
        {
          "output_type": "execute_result",
          "data": {
            "text/plain": [
              "array([0, 0, 1, ..., 0, 0, 0])"
            ]
          },
          "metadata": {},
          "execution_count": 17
        }
      ]
    },
    {
      "cell_type": "markdown",
      "source": [
        "## Tách tập dữ liệu thành tập huấn luyện (80%) và tập thử nghiệm (20%)"
      ],
      "metadata": {
        "id": "0YSbov_e1gEy"
      }
    },
    {
      "cell_type": "code",
      "source": [
        "X_train,X_test,y_train,y_test = train_test_split(X,y\n",
        "                                                 ,test_size=0.2\n",
        "                                                ,random_state=0)\n",
        "\n",
        "\n",
        "print('The shape of the X_train :'+' '+str(X_train.shape))\n",
        "print('The size of the X_train :'+' '+str(X_train.shape[0]))\n",
        "print('The shape of the X_test :'+' '+str(X_test.shape))\n",
        "print('The size of the X_test:'+' '+str(X_test.shape[0]))"
      ],
      "metadata": {
        "execution": {
          "iopub.status.busy": "2021-06-03T15:17:38.577037Z",
          "iopub.execute_input": "2021-06-03T15:17:38.577414Z",
          "iopub.status.idle": "2021-06-03T15:17:40.815574Z",
          "shell.execute_reply.started": "2021-06-03T15:17:38.577384Z",
          "shell.execute_reply": "2021-06-03T15:17:40.814666Z"
        },
        "trusted": true,
        "id": "wD_UPkLt1gEy",
        "outputId": "0f94bec2-a791-40f4-a23a-cdcf795e7048",
        "colab": {
          "base_uri": "https://localhost:8080/"
        }
      },
      "execution_count": null,
      "outputs": [
        {
          "output_type": "stream",
          "name": "stdout",
          "text": [
            "The shape of the X_train : (3009, 224, 224, 3)\n",
            "The size of the X_train : 3009\n",
            "The shape of the X_test : (753, 224, 224, 3)\n",
            "The size of the X_test: 753\n"
          ]
        }
      ]
    },
    {
      "cell_type": "markdown",
      "source": [
        "## Xây dựng mô hình (MobileNet)"
      ],
      "metadata": {
        "id": "uDMkW4vU1gEz"
      }
    },
    {
      "cell_type": "code",
      "source": [
        "!pip install keras_applications"
      ],
      "metadata": {
        "colab": {
          "base_uri": "https://localhost:8080/"
        },
        "id": "90B-DX_EoqAh",
        "outputId": "76a2e963-909a-4dc3-f5a5-f15e8cdcc382"
      },
      "execution_count": null,
      "outputs": [
        {
          "output_type": "stream",
          "name": "stdout",
          "text": [
            "Looking in indexes: https://pypi.org/simple, https://us-python.pkg.dev/colab-wheels/public/simple/\n",
            "Collecting keras_applications\n",
            "  Downloading Keras_Applications-1.0.8-py3-none-any.whl (50 kB)\n",
            "\u001b[K     |████████████████████████████████| 50 kB 3.9 MB/s \n",
            "\u001b[?25hRequirement already satisfied: h5py in /usr/local/lib/python3.7/dist-packages (from keras_applications) (3.1.0)\n",
            "Requirement already satisfied: numpy>=1.9.1 in /usr/local/lib/python3.7/dist-packages (from keras_applications) (1.21.6)\n",
            "Requirement already satisfied: cached-property in /usr/local/lib/python3.7/dist-packages (from h5py->keras_applications) (1.5.2)\n",
            "Installing collected packages: keras-applications\n",
            "Successfully installed keras-applications-1.0.8\n"
          ]
        }
      ]
    },
    {
      "cell_type": "code",
      "source": [
        "from keras.applications.mobilenet_v2 import MobileNetV2\n",
        "num_classes = 1\n",
        "model = Sequential()\n",
        "model.add(MobileNetV2(input_shape=(224, 224, 3),weights=\"imagenet\"\n",
        "                             ,include_top=False))\n",
        "model.add(keras.layers.GlobalAveragePooling2D())\n",
        "model.add( Dense(num_classes, activation='sigmoid',name='preds'))\n",
        "model.layers[0].trainable= False\n",
        "# show model summary\n",
        "model.summary()\n"
      ],
      "metadata": {
        "execution": {
          "iopub.status.busy": "2021-06-03T15:17:44.412923Z",
          "iopub.execute_input": "2021-06-03T15:17:44.413337Z",
          "iopub.status.idle": "2021-06-03T15:18:05.941288Z",
          "shell.execute_reply.started": "2021-06-03T15:17:44.413300Z",
          "shell.execute_reply": "2021-06-03T15:18:05.937783Z"
        },
        "trusted": true,
        "id": "30hWLtwI1gEz",
        "outputId": "682ad1a5-722a-4acc-9320-da5730eb3fc3",
        "colab": {
          "base_uri": "https://localhost:8080/"
        }
      },
      "execution_count": null,
      "outputs": [
        {
          "output_type": "stream",
          "name": "stdout",
          "text": [
            "Downloading data from https://storage.googleapis.com/tensorflow/keras-applications/mobilenet_v2/mobilenet_v2_weights_tf_dim_ordering_tf_kernels_1.0_224_no_top.h5\n",
            "9412608/9406464 [==============================] - 0s 0us/step\n",
            "9420800/9406464 [==============================] - 0s 0us/step\n",
            "Model: \"sequential\"\n",
            "_________________________________________________________________\n",
            " Layer (type)                Output Shape              Param #   \n",
            "=================================================================\n",
            " mobilenetv2_1.00_224 (Funct  (None, 7, 7, 1280)       2257984   \n",
            " ional)                                                          \n",
            "                                                                 \n",
            " global_average_pooling2d (G  (None, 1280)             0         \n",
            " lobalAveragePooling2D)                                          \n",
            "                                                                 \n",
            " preds (Dense)               (None, 1)                 1281      \n",
            "                                                                 \n",
            "=================================================================\n",
            "Total params: 2,259,265\n",
            "Trainable params: 1,281\n",
            "Non-trainable params: 2,257,984\n",
            "_________________________________________________________________\n"
          ]
        }
      ]
    },
    {
      "cell_type": "code",
      "source": [
        "!pip install tensorflow"
      ],
      "metadata": {
        "colab": {
          "base_uri": "https://localhost:8080/"
        },
        "id": "ULmwsbOZs2zD",
        "outputId": "ff6d022b-5b87-43e1-befe-7b15258fc730"
      },
      "execution_count": null,
      "outputs": [
        {
          "output_type": "stream",
          "name": "stdout",
          "text": [
            "Looking in indexes: https://pypi.org/simple, https://us-python.pkg.dev/colab-wheels/public/simple/\n",
            "Requirement already satisfied: tensorflow in /usr/local/lib/python3.7/dist-packages (2.8.0+zzzcolab20220506162203)\n",
            "Requirement already satisfied: setuptools in /usr/local/lib/python3.7/dist-packages (from tensorflow) (57.4.0)\n",
            "Requirement already satisfied: flatbuffers>=1.12 in /usr/local/lib/python3.7/dist-packages (from tensorflow) (2.0)\n",
            "Requirement already satisfied: keras-preprocessing>=1.1.1 in /usr/local/lib/python3.7/dist-packages (from tensorflow) (1.1.2)\n",
            "Requirement already satisfied: libclang>=9.0.1 in /usr/local/lib/python3.7/dist-packages (from tensorflow) (14.0.1)\n",
            "Requirement already satisfied: grpcio<2.0,>=1.24.3 in /usr/local/lib/python3.7/dist-packages (from tensorflow) (1.46.1)\n",
            "Requirement already satisfied: gast>=0.2.1 in /usr/local/lib/python3.7/dist-packages (from tensorflow) (0.5.3)\n",
            "Requirement already satisfied: keras<2.9,>=2.8.0rc0 in /usr/local/lib/python3.7/dist-packages (from tensorflow) (2.8.0)\n",
            "Requirement already satisfied: protobuf>=3.9.2 in /usr/local/lib/python3.7/dist-packages (from tensorflow) (3.17.3)\n",
            "Requirement already satisfied: numpy>=1.20 in /usr/local/lib/python3.7/dist-packages (from tensorflow) (1.21.6)\n",
            "Requirement already satisfied: six>=1.12.0 in /usr/local/lib/python3.7/dist-packages (from tensorflow) (1.15.0)\n",
            "Requirement already satisfied: tensorflow-io-gcs-filesystem>=0.23.1 in /usr/local/lib/python3.7/dist-packages (from tensorflow) (0.26.0)\n",
            "Requirement already satisfied: opt-einsum>=2.3.2 in /usr/local/lib/python3.7/dist-packages (from tensorflow) (3.3.0)\n",
            "Requirement already satisfied: astunparse>=1.6.0 in /usr/local/lib/python3.7/dist-packages (from tensorflow) (1.6.3)\n",
            "Requirement already satisfied: google-pasta>=0.1.1 in /usr/local/lib/python3.7/dist-packages (from tensorflow) (0.2.0)\n",
            "Requirement already satisfied: termcolor>=1.1.0 in /usr/local/lib/python3.7/dist-packages (from tensorflow) (1.1.0)\n",
            "Requirement already satisfied: h5py>=2.9.0 in /usr/local/lib/python3.7/dist-packages (from tensorflow) (3.1.0)\n",
            "Requirement already satisfied: absl-py>=0.4.0 in /usr/local/lib/python3.7/dist-packages (from tensorflow) (1.0.0)\n",
            "Requirement already satisfied: tensorboard<2.9,>=2.8 in /usr/local/lib/python3.7/dist-packages (from tensorflow) (2.8.0)\n",
            "Collecting tf-estimator-nightly==2.8.0.dev2021122109\n",
            "  Downloading tf_estimator_nightly-2.8.0.dev2021122109-py2.py3-none-any.whl (462 kB)\n",
            "\u001b[K     |████████████████████████████████| 462 kB 7.4 MB/s \n",
            "\u001b[?25hRequirement already satisfied: wrapt>=1.11.0 in /usr/local/lib/python3.7/dist-packages (from tensorflow) (1.14.1)\n",
            "Requirement already satisfied: typing-extensions>=3.6.6 in /usr/local/lib/python3.7/dist-packages (from tensorflow) (4.2.0)\n",
            "Requirement already satisfied: wheel<1.0,>=0.23.0 in /usr/local/lib/python3.7/dist-packages (from astunparse>=1.6.0->tensorflow) (0.37.1)\n",
            "Requirement already satisfied: cached-property in /usr/local/lib/python3.7/dist-packages (from h5py>=2.9.0->tensorflow) (1.5.2)\n",
            "Requirement already satisfied: google-auth<3,>=1.6.3 in /usr/local/lib/python3.7/dist-packages (from tensorboard<2.9,>=2.8->tensorflow) (1.35.0)\n",
            "Requirement already satisfied: werkzeug>=0.11.15 in /usr/local/lib/python3.7/dist-packages (from tensorboard<2.9,>=2.8->tensorflow) (1.0.1)\n",
            "Requirement already satisfied: tensorboard-plugin-wit>=1.6.0 in /usr/local/lib/python3.7/dist-packages (from tensorboard<2.9,>=2.8->tensorflow) (1.8.1)\n",
            "Requirement already satisfied: google-auth-oauthlib<0.5,>=0.4.1 in /usr/local/lib/python3.7/dist-packages (from tensorboard<2.9,>=2.8->tensorflow) (0.4.6)\n",
            "Requirement already satisfied: markdown>=2.6.8 in /usr/local/lib/python3.7/dist-packages (from tensorboard<2.9,>=2.8->tensorflow) (3.3.7)\n",
            "Requirement already satisfied: requests<3,>=2.21.0 in /usr/local/lib/python3.7/dist-packages (from tensorboard<2.9,>=2.8->tensorflow) (2.23.0)\n",
            "Requirement already satisfied: tensorboard-data-server<0.7.0,>=0.6.0 in /usr/local/lib/python3.7/dist-packages (from tensorboard<2.9,>=2.8->tensorflow) (0.6.1)\n",
            "Requirement already satisfied: cachetools<5.0,>=2.0.0 in /usr/local/lib/python3.7/dist-packages (from google-auth<3,>=1.6.3->tensorboard<2.9,>=2.8->tensorflow) (4.2.4)\n",
            "Requirement already satisfied: pyasn1-modules>=0.2.1 in /usr/local/lib/python3.7/dist-packages (from google-auth<3,>=1.6.3->tensorboard<2.9,>=2.8->tensorflow) (0.2.8)\n",
            "Requirement already satisfied: rsa<5,>=3.1.4 in /usr/local/lib/python3.7/dist-packages (from google-auth<3,>=1.6.3->tensorboard<2.9,>=2.8->tensorflow) (4.8)\n",
            "Requirement already satisfied: requests-oauthlib>=0.7.0 in /usr/local/lib/python3.7/dist-packages (from google-auth-oauthlib<0.5,>=0.4.1->tensorboard<2.9,>=2.8->tensorflow) (1.3.1)\n",
            "Requirement already satisfied: importlib-metadata>=4.4 in /usr/local/lib/python3.7/dist-packages (from markdown>=2.6.8->tensorboard<2.9,>=2.8->tensorflow) (4.11.3)\n",
            "Requirement already satisfied: zipp>=0.5 in /usr/local/lib/python3.7/dist-packages (from importlib-metadata>=4.4->markdown>=2.6.8->tensorboard<2.9,>=2.8->tensorflow) (3.8.0)\n",
            "Requirement already satisfied: pyasn1<0.5.0,>=0.4.6 in /usr/local/lib/python3.7/dist-packages (from pyasn1-modules>=0.2.1->google-auth<3,>=1.6.3->tensorboard<2.9,>=2.8->tensorflow) (0.4.8)\n",
            "Requirement already satisfied: chardet<4,>=3.0.2 in /usr/local/lib/python3.7/dist-packages (from requests<3,>=2.21.0->tensorboard<2.9,>=2.8->tensorflow) (3.0.4)\n",
            "Requirement already satisfied: idna<3,>=2.5 in /usr/local/lib/python3.7/dist-packages (from requests<3,>=2.21.0->tensorboard<2.9,>=2.8->tensorflow) (2.10)\n",
            "Requirement already satisfied: urllib3!=1.25.0,!=1.25.1,<1.26,>=1.21.1 in /usr/local/lib/python3.7/dist-packages (from requests<3,>=2.21.0->tensorboard<2.9,>=2.8->tensorflow) (1.24.3)\n",
            "Requirement already satisfied: certifi>=2017.4.17 in /usr/local/lib/python3.7/dist-packages (from requests<3,>=2.21.0->tensorboard<2.9,>=2.8->tensorflow) (2022.5.18.1)\n",
            "Requirement already satisfied: oauthlib>=3.0.0 in /usr/local/lib/python3.7/dist-packages (from requests-oauthlib>=0.7.0->google-auth-oauthlib<0.5,>=0.4.1->tensorboard<2.9,>=2.8->tensorflow) (3.2.0)\n",
            "Installing collected packages: tf-estimator-nightly\n",
            "Successfully installed tf-estimator-nightly-2.8.0.dev2021122109\n"
          ]
        }
      ]
    },
    {
      "cell_type": "code",
      "source": [
        "!pip install keras"
      ],
      "metadata": {
        "colab": {
          "base_uri": "https://localhost:8080/"
        },
        "id": "phK6YT5gtRaT",
        "outputId": "d982779a-3d87-4ea9-abbc-9a2398132f19"
      },
      "execution_count": null,
      "outputs": [
        {
          "output_type": "stream",
          "name": "stdout",
          "text": [
            "Looking in indexes: https://pypi.org/simple, https://us-python.pkg.dev/colab-wheels/public/simple/\n",
            "Requirement already satisfied: keras in /usr/local/lib/python3.7/dist-packages (2.8.0)\n"
          ]
        }
      ]
    },
    {
      "cell_type": "code",
      "source": [
        "from tensorflow import keras\n",
        "from keras import optimizers\n",
        "model.compile(\n",
        "    # set the loss as binary_crossentropy\n",
        "    loss=keras.losses.binary_crossentropy,\n",
        "    # set the optimizer as stochastic gradient descent\n",
        "    optimizer=keras.optimizers.SGD(lr=0.001),\n",
        "    # set the metric as accuracy\n",
        "    metrics=['accuracy']\n",
        ")\n",
        "\n",
        "\n",
        "# mock-train the model \n",
        "model.fit(\n",
        "    X_train[:,:,:,:],\n",
        "    y_train[:],\n",
        "    epochs=110,\n",
        "    verbose=1,\n",
        "    validation_data=(X_test[:,:,:,:], y_test[:])\n",
        ")\n",
        "model.save(\"model_brain.h5\")\n",
        "print(\"Saved model to disk\")"
      ],
      "metadata": {
        "_kg_hide-input": false,
        "execution": {
          "iopub.status.busy": "2021-06-03T15:18:14.745610Z",
          "iopub.execute_input": "2021-06-03T15:18:14.746006Z",
          "iopub.status.idle": "2021-06-03T15:18:16.496311Z",
          "shell.execute_reply.started": "2021-06-03T15:18:14.745968Z",
          "shell.execute_reply": "2021-06-03T15:18:16.494546Z"
        },
        "trusted": true,
        "id": "5tgpOMV31gEz",
        "colab": {
          "base_uri": "https://localhost:8080/"
        },
        "outputId": "952ce489-65e2-4373-e4d6-4df2de72b86f"
      },
      "execution_count": null,
      "outputs": [
        {
          "metadata": {
            "tags": null
          },
          "name": "stdout",
          "output_type": "stream",
          "text": [
            "Epoch 1/110\n"
          ]
        },
        {
          "metadata": {
            "tags": null
          },
          "name": "stderr",
          "output_type": "stream",
          "text": [
            "/usr/local/lib/python3.7/dist-packages/keras/optimizer_v2/gradient_descent.py:102: UserWarning: The `lr` argument is deprecated, use `learning_rate` instead.\n",
            "  super(SGD, self).__init__(name, **kwargs)\n"
          ]
        },
        {
          "output_type": "stream",
          "name": "stdout",
          "text": [
            "95/95 [==============================] - 149s 1s/step - loss: 0.4641 - accuracy: 0.8242 - val_loss: 0.4759 - val_accuracy: 0.8088\n",
            "Epoch 2/110\n",
            "95/95 [==============================] - 95s 999ms/step - loss: 0.4335 - accuracy: 0.8375 - val_loss: 0.4437 - val_accuracy: 0.8088\n",
            "Epoch 3/110\n",
            "95/95 [==============================] - 94s 989ms/step - loss: 0.4118 - accuracy: 0.8504 - val_loss: 0.4248 - val_accuracy: 0.8313\n",
            "Epoch 4/110\n",
            "95/95 [==============================] - 95s 1s/step - loss: 0.3956 - accuracy: 0.8524 - val_loss: 0.4116 - val_accuracy: 0.8260\n",
            "Epoch 5/110\n",
            "95/95 [==============================] - 94s 990ms/step - loss: 0.3818 - accuracy: 0.8578 - val_loss: 0.4035 - val_accuracy: 0.8340\n",
            "Epoch 6/110\n",
            "95/95 [==============================] - 92s 975ms/step - loss: 0.3705 - accuracy: 0.8624 - val_loss: 0.3965 - val_accuracy: 0.8327\n",
            "Epoch 7/110\n",
            "95/95 [==============================] - 91s 964ms/step - loss: 0.3617 - accuracy: 0.8654 - val_loss: 0.3847 - val_accuracy: 0.8367\n",
            "Epoch 8/110\n",
            "95/95 [==============================] - 94s 989ms/step - loss: 0.3529 - accuracy: 0.8701 - val_loss: 0.3846 - val_accuracy: 0.8313\n",
            "Epoch 9/110\n",
            "95/95 [==============================] - 94s 989ms/step - loss: 0.3461 - accuracy: 0.8724 - val_loss: 0.3726 - val_accuracy: 0.8433\n",
            "Epoch 10/110\n",
            "95/95 [==============================] - 94s 991ms/step - loss: 0.3394 - accuracy: 0.8740 - val_loss: 0.3693 - val_accuracy: 0.8393\n",
            "Epoch 11/110\n",
            "95/95 [==============================] - 94s 990ms/step - loss: 0.3337 - accuracy: 0.8750 - val_loss: 0.3625 - val_accuracy: 0.8526\n",
            "Epoch 12/110\n",
            "95/95 [==============================] - 95s 998ms/step - loss: 0.3281 - accuracy: 0.8787 - val_loss: 0.3605 - val_accuracy: 0.8406\n",
            "Epoch 13/110\n",
            "95/95 [==============================] - 94s 992ms/step - loss: 0.3238 - accuracy: 0.8794 - val_loss: 0.3560 - val_accuracy: 0.8433\n",
            "Epoch 14/110\n",
            "95/95 [==============================] - 95s 998ms/step - loss: 0.3189 - accuracy: 0.8814 - val_loss: 0.3511 - val_accuracy: 0.8592\n",
            "Epoch 15/110\n",
            "95/95 [==============================] - 94s 990ms/step - loss: 0.3146 - accuracy: 0.8840 - val_loss: 0.3483 - val_accuracy: 0.8473\n",
            "Epoch 16/110\n",
            "95/95 [==============================] - 93s 984ms/step - loss: 0.3113 - accuracy: 0.8827 - val_loss: 0.3450 - val_accuracy: 0.8606\n",
            "Epoch 17/110\n",
            "95/95 [==============================] - 94s 991ms/step - loss: 0.3071 - accuracy: 0.8870 - val_loss: 0.3423 - val_accuracy: 0.8566\n",
            "Epoch 18/110\n",
            "95/95 [==============================] - 93s 982ms/step - loss: 0.3043 - accuracy: 0.8903 - val_loss: 0.3513 - val_accuracy: 0.8579\n",
            "Epoch 19/110\n",
            "95/95 [==============================] - 92s 975ms/step - loss: 0.3013 - accuracy: 0.8883 - val_loss: 0.3421 - val_accuracy: 0.8579\n",
            "Epoch 20/110\n",
            "95/95 [==============================] - 93s 980ms/step - loss: 0.2990 - accuracy: 0.8907 - val_loss: 0.3355 - val_accuracy: 0.8606\n",
            "Epoch 21/110\n",
            "95/95 [==============================] - 95s 1000ms/step - loss: 0.2953 - accuracy: 0.8907 - val_loss: 0.3386 - val_accuracy: 0.8499\n",
            "Epoch 22/110\n",
            "95/95 [==============================] - 94s 994ms/step - loss: 0.2933 - accuracy: 0.8890 - val_loss: 0.3314 - val_accuracy: 0.8606\n",
            "Epoch 23/110\n",
            "95/95 [==============================] - 94s 991ms/step - loss: 0.2910 - accuracy: 0.8920 - val_loss: 0.3294 - val_accuracy: 0.8685\n",
            "Epoch 24/110\n",
            "95/95 [==============================] - 93s 978ms/step - loss: 0.2883 - accuracy: 0.8933 - val_loss: 0.3282 - val_accuracy: 0.8712\n",
            "Epoch 25/110\n",
            "95/95 [==============================] - 95s 1s/step - loss: 0.2860 - accuracy: 0.8913 - val_loss: 0.3280 - val_accuracy: 0.8632\n",
            "Epoch 26/110\n",
            "95/95 [==============================] - 93s 982ms/step - loss: 0.2840 - accuracy: 0.8927 - val_loss: 0.3244 - val_accuracy: 0.8685\n",
            "Epoch 27/110\n",
            "95/95 [==============================] - 95s 1s/step - loss: 0.2822 - accuracy: 0.8940 - val_loss: 0.3229 - val_accuracy: 0.8685\n",
            "Epoch 28/110\n",
            "95/95 [==============================] - 95s 1s/step - loss: 0.2804 - accuracy: 0.8917 - val_loss: 0.3227 - val_accuracy: 0.8712\n",
            "Epoch 29/110\n",
            "95/95 [==============================] - 92s 966ms/step - loss: 0.2784 - accuracy: 0.8963 - val_loss: 0.3200 - val_accuracy: 0.8685\n",
            "Epoch 30/110\n",
            "95/95 [==============================] - 91s 963ms/step - loss: 0.2767 - accuracy: 0.8930 - val_loss: 0.3195 - val_accuracy: 0.8619\n",
            "Epoch 31/110\n",
            "95/95 [==============================] - 92s 967ms/step - loss: 0.2751 - accuracy: 0.8976 - val_loss: 0.3171 - val_accuracy: 0.8712\n",
            "Epoch 32/110\n",
            "95/95 [==============================] - 91s 960ms/step - loss: 0.2733 - accuracy: 0.8966 - val_loss: 0.3194 - val_accuracy: 0.8619\n",
            "Epoch 33/110\n",
            "95/95 [==============================] - 92s 965ms/step - loss: 0.2722 - accuracy: 0.8976 - val_loss: 0.3204 - val_accuracy: 0.8566\n",
            "Epoch 34/110\n",
            "95/95 [==============================] - 91s 964ms/step - loss: 0.2710 - accuracy: 0.8976 - val_loss: 0.3134 - val_accuracy: 0.8712\n",
            "Epoch 35/110\n",
            "95/95 [==============================] - 90s 950ms/step - loss: 0.2690 - accuracy: 0.8996 - val_loss: 0.3123 - val_accuracy: 0.8712\n",
            "Epoch 36/110\n",
            "95/95 [==============================] - 91s 963ms/step - loss: 0.2665 - accuracy: 0.8953 - val_loss: 0.3119 - val_accuracy: 0.8752\n",
            "Epoch 37/110\n",
            "95/95 [==============================] - 91s 964ms/step - loss: 0.2661 - accuracy: 0.8983 - val_loss: 0.3101 - val_accuracy: 0.8738\n",
            "Epoch 38/110\n",
            "95/95 [==============================] - 91s 956ms/step - loss: 0.2648 - accuracy: 0.8983 - val_loss: 0.3096 - val_accuracy: 0.8685\n",
            "Epoch 39/110\n",
            "95/95 [==============================] - 90s 949ms/step - loss: 0.2636 - accuracy: 0.8993 - val_loss: 0.3109 - val_accuracy: 0.8672\n",
            "Epoch 40/110\n",
            "95/95 [==============================] - 91s 957ms/step - loss: 0.2623 - accuracy: 0.8986 - val_loss: 0.3072 - val_accuracy: 0.8712\n",
            "Epoch 41/110\n",
            "95/95 [==============================] - 90s 948ms/step - loss: 0.2612 - accuracy: 0.9043 - val_loss: 0.3061 - val_accuracy: 0.8712\n",
            "Epoch 42/110\n",
            "95/95 [==============================] - 90s 953ms/step - loss: 0.2597 - accuracy: 0.9020 - val_loss: 0.3138 - val_accuracy: 0.8752\n",
            "Epoch 43/110\n",
            "95/95 [==============================] - 91s 955ms/step - loss: 0.2599 - accuracy: 0.9010 - val_loss: 0.3044 - val_accuracy: 0.8712\n",
            "Epoch 44/110\n",
            "95/95 [==============================] - 91s 962ms/step - loss: 0.2573 - accuracy: 0.9033 - val_loss: 0.3119 - val_accuracy: 0.8765\n",
            "Epoch 45/110\n",
            "95/95 [==============================] - 91s 960ms/step - loss: 0.2570 - accuracy: 0.9056 - val_loss: 0.3028 - val_accuracy: 0.8725\n",
            "Epoch 46/110\n",
            "95/95 [==============================] - 91s 955ms/step - loss: 0.2552 - accuracy: 0.9000 - val_loss: 0.3032 - val_accuracy: 0.8752\n",
            "Epoch 47/110\n",
            "95/95 [==============================] - 90s 952ms/step - loss: 0.2546 - accuracy: 0.9030 - val_loss: 0.3012 - val_accuracy: 0.8738\n",
            "Epoch 48/110\n",
            "95/95 [==============================] - 91s 955ms/step - loss: 0.2535 - accuracy: 0.9056 - val_loss: 0.3003 - val_accuracy: 0.8752\n",
            "Epoch 49/110\n",
            "95/95 [==============================] - 91s 957ms/step - loss: 0.2526 - accuracy: 0.9036 - val_loss: 0.2996 - val_accuracy: 0.8752\n",
            "Epoch 50/110\n",
            "95/95 [==============================] - 91s 956ms/step - loss: 0.2515 - accuracy: 0.9046 - val_loss: 0.2988 - val_accuracy: 0.8752\n",
            "Epoch 51/110\n",
            "95/95 [==============================] - 90s 947ms/step - loss: 0.2507 - accuracy: 0.9040 - val_loss: 0.3032 - val_accuracy: 0.8818\n",
            "Epoch 52/110\n",
            "95/95 [==============================] - 90s 944ms/step - loss: 0.2502 - accuracy: 0.9050 - val_loss: 0.2974 - val_accuracy: 0.8765\n",
            "Epoch 53/110\n",
            "95/95 [==============================] - 90s 951ms/step - loss: 0.2485 - accuracy: 0.9066 - val_loss: 0.2986 - val_accuracy: 0.8818\n",
            "Epoch 54/110\n",
            "95/95 [==============================] - 91s 957ms/step - loss: 0.2480 - accuracy: 0.9073 - val_loss: 0.2983 - val_accuracy: 0.8699\n",
            "Epoch 55/110\n",
            "95/95 [==============================] - 90s 948ms/step - loss: 0.2471 - accuracy: 0.9043 - val_loss: 0.2958 - val_accuracy: 0.8792\n",
            "Epoch 56/110\n",
            "95/95 [==============================] - 91s 958ms/step - loss: 0.2464 - accuracy: 0.9053 - val_loss: 0.2949 - val_accuracy: 0.8792\n",
            "Epoch 57/110\n",
            "95/95 [==============================] - 90s 950ms/step - loss: 0.2454 - accuracy: 0.9063 - val_loss: 0.2942 - val_accuracy: 0.8805\n",
            "Epoch 58/110\n",
            "95/95 [==============================] - 91s 961ms/step - loss: 0.2444 - accuracy: 0.9079 - val_loss: 0.2934 - val_accuracy: 0.8818\n",
            "Epoch 59/110\n",
            "95/95 [==============================] - 91s 958ms/step - loss: 0.2441 - accuracy: 0.9063 - val_loss: 0.2954 - val_accuracy: 0.8805\n",
            "Epoch 60/110\n",
            "95/95 [==============================] - 92s 967ms/step - loss: 0.2434 - accuracy: 0.9089 - val_loss: 0.2918 - val_accuracy: 0.8818\n",
            "Epoch 61/110\n",
            "95/95 [==============================] - 91s 959ms/step - loss: 0.2423 - accuracy: 0.9079 - val_loss: 0.2916 - val_accuracy: 0.8871\n",
            "Epoch 62/110\n",
            "95/95 [==============================] - 91s 957ms/step - loss: 0.2413 - accuracy: 0.9089 - val_loss: 0.2921 - val_accuracy: 0.8845\n",
            "Epoch 63/110\n",
            "95/95 [==============================] - 91s 964ms/step - loss: 0.2408 - accuracy: 0.9076 - val_loss: 0.2902 - val_accuracy: 0.8805\n",
            "Epoch 64/110\n",
            "95/95 [==============================] - 92s 966ms/step - loss: 0.2400 - accuracy: 0.9083 - val_loss: 0.2901 - val_accuracy: 0.8778\n",
            "Epoch 65/110\n",
            "95/95 [==============================] - 91s 964ms/step - loss: 0.2393 - accuracy: 0.9076 - val_loss: 0.2892 - val_accuracy: 0.8792\n",
            "Epoch 66/110\n",
            "95/95 [==============================] - 91s 959ms/step - loss: 0.2389 - accuracy: 0.9103 - val_loss: 0.2881 - val_accuracy: 0.8845\n",
            "Epoch 67/110\n",
            "95/95 [==============================] - 91s 963ms/step - loss: 0.2380 - accuracy: 0.9113 - val_loss: 0.2882 - val_accuracy: 0.8792\n",
            "Epoch 68/110\n",
            "95/95 [==============================] - 91s 958ms/step - loss: 0.2372 - accuracy: 0.9106 - val_loss: 0.2870 - val_accuracy: 0.8858\n",
            "Epoch 69/110\n",
            "95/95 [==============================] - 92s 970ms/step - loss: 0.2367 - accuracy: 0.9099 - val_loss: 0.2864 - val_accuracy: 0.8871\n",
            "Epoch 70/110\n",
            "95/95 [==============================] - 91s 956ms/step - loss: 0.2360 - accuracy: 0.9103 - val_loss: 0.2863 - val_accuracy: 0.8792\n",
            "Epoch 71/110\n",
            "95/95 [==============================] - 92s 969ms/step - loss: 0.2353 - accuracy: 0.9099 - val_loss: 0.2859 - val_accuracy: 0.8898\n",
            "Epoch 72/110\n",
            "95/95 [==============================] - 92s 966ms/step - loss: 0.2348 - accuracy: 0.9103 - val_loss: 0.2850 - val_accuracy: 0.8911\n",
            "Epoch 73/110\n",
            "95/95 [==============================] - 91s 965ms/step - loss: 0.2340 - accuracy: 0.9139 - val_loss: 0.2842 - val_accuracy: 0.8845\n",
            "Epoch 74/110\n",
            "95/95 [==============================] - 92s 967ms/step - loss: 0.2333 - accuracy: 0.9126 - val_loss: 0.2880 - val_accuracy: 0.8858\n",
            "Epoch 75/110\n",
            "95/95 [==============================] - 92s 972ms/step - loss: 0.2332 - accuracy: 0.9129 - val_loss: 0.2834 - val_accuracy: 0.8938\n",
            "Epoch 76/110\n",
            "95/95 [==============================] - 92s 966ms/step - loss: 0.2323 - accuracy: 0.9116 - val_loss: 0.2880 - val_accuracy: 0.8858\n",
            "Epoch 77/110\n",
            "95/95 [==============================] - 92s 969ms/step - loss: 0.2322 - accuracy: 0.9106 - val_loss: 0.2834 - val_accuracy: 0.8871\n",
            "Epoch 78/110\n",
            "95/95 [==============================] - 92s 972ms/step - loss: 0.2311 - accuracy: 0.9129 - val_loss: 0.2818 - val_accuracy: 0.8871\n",
            "Epoch 79/110\n",
            "95/95 [==============================] - 92s 968ms/step - loss: 0.2305 - accuracy: 0.9126 - val_loss: 0.2814 - val_accuracy: 0.8911\n",
            "Epoch 80/110\n",
            "95/95 [==============================] - 92s 974ms/step - loss: 0.2298 - accuracy: 0.9126 - val_loss: 0.2942 - val_accuracy: 0.8858\n",
            "Epoch 81/110\n",
            "95/95 [==============================] - 92s 971ms/step - loss: 0.2301 - accuracy: 0.9169 - val_loss: 0.2804 - val_accuracy: 0.8884\n",
            "Epoch 82/110\n",
            "95/95 [==============================] - 92s 974ms/step - loss: 0.2285 - accuracy: 0.9163 - val_loss: 0.2799 - val_accuracy: 0.8898\n",
            "Epoch 83/110\n",
            "95/95 [==============================] - 92s 975ms/step - loss: 0.2283 - accuracy: 0.9149 - val_loss: 0.2796 - val_accuracy: 0.8911\n",
            "Epoch 84/110\n",
            "95/95 [==============================] - 92s 971ms/step - loss: 0.2276 - accuracy: 0.9163 - val_loss: 0.2799 - val_accuracy: 0.8831\n",
            "Epoch 85/110\n",
            "95/95 [==============================] - 91s 961ms/step - loss: 0.2272 - accuracy: 0.9143 - val_loss: 0.2785 - val_accuracy: 0.8911\n",
            "Epoch 86/110\n",
            "95/95 [==============================] - 91s 961ms/step - loss: 0.2266 - accuracy: 0.9159 - val_loss: 0.2784 - val_accuracy: 0.8884\n",
            "Epoch 87/110\n",
            "95/95 [==============================] - 92s 970ms/step - loss: 0.2262 - accuracy: 0.9149 - val_loss: 0.2776 - val_accuracy: 0.8911\n",
            "Epoch 88/110\n",
            "95/95 [==============================] - 92s 971ms/step - loss: 0.2256 - accuracy: 0.9156 - val_loss: 0.2771 - val_accuracy: 0.8938\n",
            "Epoch 89/110\n",
            "95/95 [==============================] - 92s 966ms/step - loss: 0.2251 - accuracy: 0.9136 - val_loss: 0.2772 - val_accuracy: 0.8911\n",
            "Epoch 90/110\n",
            "95/95 [==============================] - 91s 965ms/step - loss: 0.2246 - accuracy: 0.9182 - val_loss: 0.2782 - val_accuracy: 0.8818\n",
            "Epoch 91/110\n",
            "95/95 [==============================] - 91s 957ms/step - loss: 0.2242 - accuracy: 0.9146 - val_loss: 0.2762 - val_accuracy: 0.8911\n",
            "Epoch 92/110\n",
            "95/95 [==============================] - 91s 955ms/step - loss: 0.2234 - accuracy: 0.9143 - val_loss: 0.2757 - val_accuracy: 0.8911\n",
            "Epoch 93/110\n",
            "95/95 [==============================] - 90s 951ms/step - loss: 0.2230 - accuracy: 0.9176 - val_loss: 0.2753 - val_accuracy: 0.8911\n",
            "Epoch 94/110\n",
            "95/95 [==============================] - 91s 957ms/step - loss: 0.2224 - accuracy: 0.9172 - val_loss: 0.2745 - val_accuracy: 0.8938\n",
            "Epoch 95/110\n",
            "95/95 [==============================] - 90s 945ms/step - loss: 0.2220 - accuracy: 0.9159 - val_loss: 0.2746 - val_accuracy: 0.8924\n",
            "Epoch 96/110\n",
            "95/95 [==============================] - 91s 965ms/step - loss: 0.2215 - accuracy: 0.9172 - val_loss: 0.2738 - val_accuracy: 0.8938\n",
            "Epoch 97/110\n",
            "95/95 [==============================] - 91s 960ms/step - loss: 0.2211 - accuracy: 0.9156 - val_loss: 0.2844 - val_accuracy: 0.8884\n",
            "Epoch 98/110\n",
            "95/95 [==============================] - 91s 963ms/step - loss: 0.2217 - accuracy: 0.9189 - val_loss: 0.2759 - val_accuracy: 0.8898\n",
            "Epoch 99/110\n",
            "95/95 [==============================] - 92s 971ms/step - loss: 0.2204 - accuracy: 0.9182 - val_loss: 0.2731 - val_accuracy: 0.8924\n",
            "Epoch 100/110\n",
            "95/95 [==============================] - 92s 976ms/step - loss: 0.2197 - accuracy: 0.9206 - val_loss: 0.2799 - val_accuracy: 0.8911\n",
            "Epoch 101/110\n",
            "95/95 [==============================] - 93s 986ms/step - loss: 0.2200 - accuracy: 0.9196 - val_loss: 0.2715 - val_accuracy: 0.8938\n",
            "Epoch 102/110\n",
            "95/95 [==============================] - 92s 968ms/step - loss: 0.2186 - accuracy: 0.9182 - val_loss: 0.2711 - val_accuracy: 0.8938\n",
            "Epoch 103/110\n",
            "95/95 [==============================] - 92s 971ms/step - loss: 0.2181 - accuracy: 0.9202 - val_loss: 0.2707 - val_accuracy: 0.8938\n",
            "Epoch 104/110\n",
            "95/95 [==============================] - 92s 968ms/step - loss: 0.2177 - accuracy: 0.9192 - val_loss: 0.2723 - val_accuracy: 0.8858\n",
            "Epoch 105/110\n",
            "95/95 [==============================] - 93s 980ms/step - loss: 0.2180 - accuracy: 0.9189 - val_loss: 0.2698 - val_accuracy: 0.8938\n",
            "Epoch 106/110\n",
            "95/95 [==============================] - 94s 992ms/step - loss: 0.2171 - accuracy: 0.9199 - val_loss: 0.2694 - val_accuracy: 0.8951\n",
            "Epoch 107/110\n",
            "95/95 [==============================] - 94s 988ms/step - loss: 0.2165 - accuracy: 0.9176 - val_loss: 0.2696 - val_accuracy: 0.8938\n",
            "Epoch 108/110\n",
            "95/95 [==============================] - 92s 968ms/step - loss: 0.2160 - accuracy: 0.9202 - val_loss: 0.2688 - val_accuracy: 0.8938\n",
            "Epoch 109/110\n",
            "95/95 [==============================] - 92s 966ms/step - loss: 0.2158 - accuracy: 0.9202 - val_loss: 0.2684 - val_accuracy: 0.8951\n",
            "Epoch 110/110\n",
            "95/95 [==============================] - 93s 980ms/step - loss: 0.2154 - accuracy: 0.9206 - val_loss: 0.2681 - val_accuracy: 0.8951\n",
            "Saved model to disk\n"
          ]
        }
      ]
    },
    {
      "cell_type": "code",
      "source": [
        "pretrained_cnn = keras.models.load_model('./model_brain.h5')\n",
        "\n",
        "# evaluate model on holdout set\n",
        "eval_score = pretrained_cnn.evaluate(X_test,y_test)\n",
        "# print loss score\n",
        "print('Eval loss:',eval_score[0])\n",
        "# print accuracy score\n",
        "print('Eval accuracy:',eval_score[1] )"
      ],
      "metadata": {
        "execution": {
          "iopub.status.busy": "2021-06-03T15:18:36.421683Z",
          "iopub.execute_input": "2021-06-03T15:18:36.422207Z",
          "iopub.status.idle": "2021-06-03T15:18:36.777139Z",
          "shell.execute_reply.started": "2021-06-03T15:18:36.422174Z",
          "shell.execute_reply": "2021-06-03T15:18:36.775886Z"
        },
        "trusted": true,
        "id": "6s_IBBsb1gE0",
        "colab": {
          "base_uri": "https://localhost:8080/"
        },
        "outputId": "36f0c7f6-d95c-4832-9610-46ed096c82ce"
      },
      "execution_count": null,
      "outputs": [
        {
          "output_type": "stream",
          "name": "stdout",
          "text": [
            "24/24 [==============================] - 26s 972ms/step - loss: 0.2681 - accuracy: 0.8951\n",
            "Eval loss: 0.2680949866771698\n",
            "Eval accuracy: 0.8950863480567932\n"
          ]
        }
      ]
    },
    {
      "cell_type": "code",
      "source": [
        "y_pred = pretrained_cnn.predict(X_test)"
      ],
      "metadata": {
        "execution": {
          "iopub.status.busy": "2021-06-03T14:39:50.349387Z",
          "iopub.execute_input": "2021-06-03T14:39:50.349764Z",
          "iopub.status.idle": "2021-06-03T14:39:50.383475Z",
          "shell.execute_reply.started": "2021-06-03T14:39:50.349729Z",
          "shell.execute_reply": "2021-06-03T14:39:50.381528Z"
        },
        "trusted": true,
        "id": "D22Ac4gV1gE0"
      },
      "execution_count": null,
      "outputs": []
    },
    {
      "cell_type": "code",
      "source": [
        "from sklearn.metrics import confusion_matrix , classification_report\n",
        "target_classes = ['No Tumor','Tumor']\n",
        "y_pred = y_pred.flatten()\n",
        "classification_report(y_test , y_pred , output_dict = True\n",
        "                      , target_names=target_classes)\n"
      ],
      "metadata": {
        "execution": {
          "iopub.status.busy": "2021-06-03T14:40:12.630214Z",
          "iopub.execute_input": "2021-06-03T14:40:12.63062Z",
          "iopub.status.idle": "2021-06-03T14:40:12.661408Z",
          "shell.execute_reply.started": "2021-06-03T14:40:12.630582Z",
          "shell.execute_reply": "2021-06-03T14:40:12.659715Z"
        },
        "trusted": true,
        "id": "Nel7ODVw1gE0",
        "colab": {
          "base_uri": "https://localhost:8080/"
        },
        "outputId": "68f08e5e-76cb-49b4-9df0-ae558e39e547"
      },
      "execution_count": null,
      "outputs": [
        {
          "output_type": "execute_result",
          "data": {
            "text/plain": [
              "{'No Tumor': {'f1-score': 0.9021065675340768,\n",
              "  'precision': 0.8943488943488943,\n",
              "  'recall': 0.91,\n",
              "  'support': 400},\n",
              " 'Tumor': {'f1-score': 0.8869814020028611,\n",
              "  'precision': 0.8959537572254336,\n",
              "  'recall': 0.8781869688385269,\n",
              "  'support': 353},\n",
              " 'accuracy': 0.8950863213811421,\n",
              " 'macro avg': {'f1-score': 0.894543984768469,\n",
              "  'precision': 0.8951513257871639,\n",
              "  'recall': 0.8940934844192634,\n",
              "  'support': 753},\n",
              " 'weighted avg': {'f1-score': 0.8950160184869066,\n",
              "  'precision': 0.8951012404251472,\n",
              "  'recall': 0.8950863213811421,\n",
              "  'support': 753}}"
            ]
          },
          "metadata": {},
          "execution_count": 37
        }
      ]
    },
    {
      "cell_type": "markdown",
      "source": [
        "### Chỉ có 81 hình ảnh trong số 753 hình ảnh thử nghiệm bị phân loại sai"
      ],
      "metadata": {
        "id": "cv3SUucM1gE0"
      }
    },
    {
      "cell_type": "code",
      "source": [
        "confusion_matrix(y_test , y_pred ) "
      ],
      "metadata": {
        "execution": {
          "iopub.status.busy": "2021-06-03T14:40:16.641385Z",
          "iopub.execute_input": "2021-06-03T14:40:16.641748Z",
          "iopub.status.idle": "2021-06-03T14:40:16.670383Z",
          "shell.execute_reply.started": "2021-06-03T14:40:16.641718Z",
          "shell.execute_reply": "2021-06-03T14:40:16.668988Z"
        },
        "trusted": true,
        "id": "UFi-V4Mw1gE1",
        "colab": {
          "base_uri": "https://localhost:8080/"
        },
        "outputId": "219d8a76-0043-4615-dd75-f9e7ab5213d1"
      },
      "execution_count": null,
      "outputs": [
        {
          "output_type": "execute_result",
          "data": {
            "text/plain": [
              "array([[364,  36],\n",
              "       [ 43, 310]])"
            ]
          },
          "metadata": {},
          "execution_count": 38
        }
      ]
    },
    {
      "cell_type": "markdown",
      "source": [
        "# Tumor or Non Tumor Prediction Using KNN"
      ],
      "metadata": {
        "id": "hjhO9oPm9nWL"
      }
    },
    {
      "cell_type": "code",
      "source": [
        "import pandas as pd\n",
        "from sklearn.preprocessing import LabelEncoder\n",
        "from sklearn.impute import SimpleImputer\n",
        "from sklearn.model_selection import train_test_split\n",
        "from sklearn.linear_model import LogisticRegression\n",
        "from sklearn.neighbors import KNeighborsClassifier\n",
        "from sklearn.svm import SVC\n",
        "import matplotlib.pyplot as plt\n",
        "import numpy as np\n",
        "%matplotlib inline"
      ],
      "metadata": {
        "id": "sP-HhrpK9loK"
      },
      "execution_count": null,
      "outputs": []
    },
    {
      "cell_type": "code",
      "source": [
        "from google.colab import drive\n",
        "drive.mount('/content/drive')"
      ],
      "metadata": {
        "colab": {
          "base_uri": "https://localhost:8080/"
        },
        "id": "pqxt9tep9so6",
        "outputId": "2153519e-e1ae-40b4-eac6-8a77a5f5956a"
      },
      "execution_count": null,
      "outputs": [
        {
          "output_type": "stream",
          "name": "stdout",
          "text": [
            "Mounted at /content/drive\n"
          ]
        }
      ]
    },
    {
      "cell_type": "code",
      "source": [
        "df = pd.read_csv('/content/drive/MyDrive/bt_dataset_t3.csv')\n",
        "df.replace(to_replace='None', value=pd.np.nan, inplace=True)\n",
        "pd.options.display.max_columns=None\n",
        "pd.options.display.max_rows=None\n",
        "print(df.shape)\n",
        "df.head()"
      ],
      "metadata": {
        "colab": {
          "base_uri": "https://localhost:8080/",
          "height": 426
        },
        "id": "DQcQue2f90Pq",
        "outputId": "333902e8-4808-4fca-e529-8e76fa39a383"
      },
      "execution_count": null,
      "outputs": [
        {
          "output_type": "stream",
          "name": "stdout",
          "text": [
            "(1644, 19)\n"
          ]
        },
        {
          "output_type": "stream",
          "name": "stderr",
          "text": [
            "/usr/local/lib/python3.7/dist-packages/ipykernel_launcher.py:2: FutureWarning: The pandas.np module is deprecated and will be removed from pandas in a future version. Import numpy directly instead\n",
            "  \n"
          ]
        },
        {
          "output_type": "execute_result",
          "data": {
            "text/plain": [
              "    Image       Mean     Variance  Standard Deviation   Entropy  Skewness  \\\n",
              "0  Image1  23.448517  2538.985627           50.388348  0.651174  1.984202   \n",
              "1  Image2   4.398331   834.853030           28.893823  0.953532  6.495203   \n",
              "2  Image3   3.244263   642.059166           25.338886  0.966065  7.772860   \n",
              "3  Image4   8.511353  1126.214187           33.559115  0.868765  3.763142   \n",
              "4  Image5  21.000793  2235.316978           47.279139  0.684724  1.936029   \n",
              "\n",
              "    Kurtosis    Contrast    Energy       ASM  Homogeneity  Dissimilarity  \\\n",
              "0   5.421042  181.467713  0.781557  0.610831     0.847033       2.765411   \n",
              "1  43.349355   76.745886  0.972770  0.946281     0.980762       0.548605   \n",
              "2  61.756034   81.752406  0.980161  0.960715     0.985066       0.540411   \n",
              "3  15.107579  362.291213  0.921786  0.849690     0.949295       2.765725   \n",
              "4   4.722343  312.439226  0.804184  0.646711     0.880301       3.006660   \n",
              "\n",
              "   Correlation     Coarseness        PSNR      SSIM       MSE        DC  \\\n",
              "0     0.968576  7.458341e-155   97.974630  0.777011  0.171163  0.303989   \n",
              "1     0.959751  7.458341e-155  110.346597  0.977953  0.009913  0.839019   \n",
              "2     0.944259  7.458341e-155  112.266298  0.985362  0.006372  0.849775   \n",
              "3     0.859027  7.458341e-155  101.955792  0.881015  0.068437  0.000000   \n",
              "4     0.938572  7.458341e-155   97.639870  0.766308  0.184878  0.000000   \n",
              "\n",
              "   Target  \n",
              "0       1  \n",
              "1       1  \n",
              "2       1  \n",
              "3       0  \n",
              "4       0  "
            ],
            "text/html": [
              "\n",
              "  <div id=\"df-cda00fe9-339e-4ca8-a1d3-ccd1d2c5662f\">\n",
              "    <div class=\"colab-df-container\">\n",
              "      <div>\n",
              "<style scoped>\n",
              "    .dataframe tbody tr th:only-of-type {\n",
              "        vertical-align: middle;\n",
              "    }\n",
              "\n",
              "    .dataframe tbody tr th {\n",
              "        vertical-align: top;\n",
              "    }\n",
              "\n",
              "    .dataframe thead th {\n",
              "        text-align: right;\n",
              "    }\n",
              "</style>\n",
              "<table border=\"1\" class=\"dataframe\">\n",
              "  <thead>\n",
              "    <tr style=\"text-align: right;\">\n",
              "      <th></th>\n",
              "      <th>Image</th>\n",
              "      <th>Mean</th>\n",
              "      <th>Variance</th>\n",
              "      <th>Standard Deviation</th>\n",
              "      <th>Entropy</th>\n",
              "      <th>Skewness</th>\n",
              "      <th>Kurtosis</th>\n",
              "      <th>Contrast</th>\n",
              "      <th>Energy</th>\n",
              "      <th>ASM</th>\n",
              "      <th>Homogeneity</th>\n",
              "      <th>Dissimilarity</th>\n",
              "      <th>Correlation</th>\n",
              "      <th>Coarseness</th>\n",
              "      <th>PSNR</th>\n",
              "      <th>SSIM</th>\n",
              "      <th>MSE</th>\n",
              "      <th>DC</th>\n",
              "      <th>Target</th>\n",
              "    </tr>\n",
              "  </thead>\n",
              "  <tbody>\n",
              "    <tr>\n",
              "      <th>0</th>\n",
              "      <td>Image1</td>\n",
              "      <td>23.448517</td>\n",
              "      <td>2538.985627</td>\n",
              "      <td>50.388348</td>\n",
              "      <td>0.651174</td>\n",
              "      <td>1.984202</td>\n",
              "      <td>5.421042</td>\n",
              "      <td>181.467713</td>\n",
              "      <td>0.781557</td>\n",
              "      <td>0.610831</td>\n",
              "      <td>0.847033</td>\n",
              "      <td>2.765411</td>\n",
              "      <td>0.968576</td>\n",
              "      <td>7.458341e-155</td>\n",
              "      <td>97.974630</td>\n",
              "      <td>0.777011</td>\n",
              "      <td>0.171163</td>\n",
              "      <td>0.303989</td>\n",
              "      <td>1</td>\n",
              "    </tr>\n",
              "    <tr>\n",
              "      <th>1</th>\n",
              "      <td>Image2</td>\n",
              "      <td>4.398331</td>\n",
              "      <td>834.853030</td>\n",
              "      <td>28.893823</td>\n",
              "      <td>0.953532</td>\n",
              "      <td>6.495203</td>\n",
              "      <td>43.349355</td>\n",
              "      <td>76.745886</td>\n",
              "      <td>0.972770</td>\n",
              "      <td>0.946281</td>\n",
              "      <td>0.980762</td>\n",
              "      <td>0.548605</td>\n",
              "      <td>0.959751</td>\n",
              "      <td>7.458341e-155</td>\n",
              "      <td>110.346597</td>\n",
              "      <td>0.977953</td>\n",
              "      <td>0.009913</td>\n",
              "      <td>0.839019</td>\n",
              "      <td>1</td>\n",
              "    </tr>\n",
              "    <tr>\n",
              "      <th>2</th>\n",
              "      <td>Image3</td>\n",
              "      <td>3.244263</td>\n",
              "      <td>642.059166</td>\n",
              "      <td>25.338886</td>\n",
              "      <td>0.966065</td>\n",
              "      <td>7.772860</td>\n",
              "      <td>61.756034</td>\n",
              "      <td>81.752406</td>\n",
              "      <td>0.980161</td>\n",
              "      <td>0.960715</td>\n",
              "      <td>0.985066</td>\n",
              "      <td>0.540411</td>\n",
              "      <td>0.944259</td>\n",
              "      <td>7.458341e-155</td>\n",
              "      <td>112.266298</td>\n",
              "      <td>0.985362</td>\n",
              "      <td>0.006372</td>\n",
              "      <td>0.849775</td>\n",
              "      <td>1</td>\n",
              "    </tr>\n",
              "    <tr>\n",
              "      <th>3</th>\n",
              "      <td>Image4</td>\n",
              "      <td>8.511353</td>\n",
              "      <td>1126.214187</td>\n",
              "      <td>33.559115</td>\n",
              "      <td>0.868765</td>\n",
              "      <td>3.763142</td>\n",
              "      <td>15.107579</td>\n",
              "      <td>362.291213</td>\n",
              "      <td>0.921786</td>\n",
              "      <td>0.849690</td>\n",
              "      <td>0.949295</td>\n",
              "      <td>2.765725</td>\n",
              "      <td>0.859027</td>\n",
              "      <td>7.458341e-155</td>\n",
              "      <td>101.955792</td>\n",
              "      <td>0.881015</td>\n",
              "      <td>0.068437</td>\n",
              "      <td>0.000000</td>\n",
              "      <td>0</td>\n",
              "    </tr>\n",
              "    <tr>\n",
              "      <th>4</th>\n",
              "      <td>Image5</td>\n",
              "      <td>21.000793</td>\n",
              "      <td>2235.316978</td>\n",
              "      <td>47.279139</td>\n",
              "      <td>0.684724</td>\n",
              "      <td>1.936029</td>\n",
              "      <td>4.722343</td>\n",
              "      <td>312.439226</td>\n",
              "      <td>0.804184</td>\n",
              "      <td>0.646711</td>\n",
              "      <td>0.880301</td>\n",
              "      <td>3.006660</td>\n",
              "      <td>0.938572</td>\n",
              "      <td>7.458341e-155</td>\n",
              "      <td>97.639870</td>\n",
              "      <td>0.766308</td>\n",
              "      <td>0.184878</td>\n",
              "      <td>0.000000</td>\n",
              "      <td>0</td>\n",
              "    </tr>\n",
              "  </tbody>\n",
              "</table>\n",
              "</div>\n",
              "      <button class=\"colab-df-convert\" onclick=\"convertToInteractive('df-cda00fe9-339e-4ca8-a1d3-ccd1d2c5662f')\"\n",
              "              title=\"Convert this dataframe to an interactive table.\"\n",
              "              style=\"display:none;\">\n",
              "        \n",
              "  <svg xmlns=\"http://www.w3.org/2000/svg\" height=\"24px\"viewBox=\"0 0 24 24\"\n",
              "       width=\"24px\">\n",
              "    <path d=\"M0 0h24v24H0V0z\" fill=\"none\"/>\n",
              "    <path d=\"M18.56 5.44l.94 2.06.94-2.06 2.06-.94-2.06-.94-.94-2.06-.94 2.06-2.06.94zm-11 1L8.5 8.5l.94-2.06 2.06-.94-2.06-.94L8.5 2.5l-.94 2.06-2.06.94zm10 10l.94 2.06.94-2.06 2.06-.94-2.06-.94-.94-2.06-.94 2.06-2.06.94z\"/><path d=\"M17.41 7.96l-1.37-1.37c-.4-.4-.92-.59-1.43-.59-.52 0-1.04.2-1.43.59L10.3 9.45l-7.72 7.72c-.78.78-.78 2.05 0 2.83L4 21.41c.39.39.9.59 1.41.59.51 0 1.02-.2 1.41-.59l7.78-7.78 2.81-2.81c.8-.78.8-2.07 0-2.86zM5.41 20L4 18.59l7.72-7.72 1.47 1.35L5.41 20z\"/>\n",
              "  </svg>\n",
              "      </button>\n",
              "      \n",
              "  <style>\n",
              "    .colab-df-container {\n",
              "      display:flex;\n",
              "      flex-wrap:wrap;\n",
              "      gap: 12px;\n",
              "    }\n",
              "\n",
              "    .colab-df-convert {\n",
              "      background-color: #E8F0FE;\n",
              "      border: none;\n",
              "      border-radius: 50%;\n",
              "      cursor: pointer;\n",
              "      display: none;\n",
              "      fill: #1967D2;\n",
              "      height: 32px;\n",
              "      padding: 0 0 0 0;\n",
              "      width: 32px;\n",
              "    }\n",
              "\n",
              "    .colab-df-convert:hover {\n",
              "      background-color: #E2EBFA;\n",
              "      box-shadow: 0px 1px 2px rgba(60, 64, 67, 0.3), 0px 1px 3px 1px rgba(60, 64, 67, 0.15);\n",
              "      fill: #174EA6;\n",
              "    }\n",
              "\n",
              "    [theme=dark] .colab-df-convert {\n",
              "      background-color: #3B4455;\n",
              "      fill: #D2E3FC;\n",
              "    }\n",
              "\n",
              "    [theme=dark] .colab-df-convert:hover {\n",
              "      background-color: #434B5C;\n",
              "      box-shadow: 0px 1px 3px 1px rgba(0, 0, 0, 0.15);\n",
              "      filter: drop-shadow(0px 1px 2px rgba(0, 0, 0, 0.3));\n",
              "      fill: #FFFFFF;\n",
              "    }\n",
              "  </style>\n",
              "\n",
              "      <script>\n",
              "        const buttonEl =\n",
              "          document.querySelector('#df-cda00fe9-339e-4ca8-a1d3-ccd1d2c5662f button.colab-df-convert');\n",
              "        buttonEl.style.display =\n",
              "          google.colab.kernel.accessAllowed ? 'block' : 'none';\n",
              "\n",
              "        async function convertToInteractive(key) {\n",
              "          const element = document.querySelector('#df-cda00fe9-339e-4ca8-a1d3-ccd1d2c5662f');\n",
              "          const dataTable =\n",
              "            await google.colab.kernel.invokeFunction('convertToInteractive',\n",
              "                                                     [key], {});\n",
              "          if (!dataTable) return;\n",
              "\n",
              "          const docLinkHtml = 'Like what you see? Visit the ' +\n",
              "            '<a target=\"_blank\" href=https://colab.research.google.com/notebooks/data_table.ipynb>data table notebook</a>'\n",
              "            + ' to learn more about interactive tables.';\n",
              "          element.innerHTML = '';\n",
              "          dataTable['output_type'] = 'display_data';\n",
              "          await google.colab.output.renderOutput(dataTable, element);\n",
              "          const docLink = document.createElement('div');\n",
              "          docLink.innerHTML = docLinkHtml;\n",
              "          element.appendChild(docLink);\n",
              "        }\n",
              "      </script>\n",
              "    </div>\n",
              "  </div>\n",
              "  "
            ]
          },
          "metadata": {},
          "execution_count": 3
        }
      ]
    },
    {
      "cell_type": "markdown",
      "source": [
        "# Data Preprocessing"
      ],
      "metadata": {
        "id": "MciC_72g99Kp"
      }
    },
    {
      "cell_type": "code",
      "source": [
        "y = df['Target']\n",
        "X = df.drop(['Image', 'Target'], axis=1)\n",
        "X = X.replace([np.inf, -np.inf], np.nan) # Replacing inf values with NaN"
      ],
      "metadata": {
        "id": "aH1hbzeJ98kj"
      },
      "execution_count": null,
      "outputs": []
    },
    {
      "cell_type": "code",
      "source": [
        "def process_na_columns(df, tolerance=0.3):\n",
        "    '''\n",
        "    df: dataset except the target\n",
        "    tolerance: We drop a column if it has lower valid data than tolerance \n",
        "    '''\n",
        "    dataset_size = df.shape[0]\n",
        "    tolerate_na_size = int(dataset_size * tolerance)  \n",
        "    for c in df.columns:\n",
        "        na_counts = df[c].isna().sum()\n",
        "        \n",
        "        if na_counts != 0:\n",
        "            if na_counts > tolerate_na_size:\n",
        "                df = df.drop([c], axis=1)\n",
        "            else:\n",
        "                if df[c].dtypes == 'object':\n",
        "                    values = df[c].value_counts()\n",
        "                    max_val = values.index[0] # Highest Occurrence\n",
        "                    df[c].replace(to_replace=pd.np.nan, value=max_val, inplace=True)\n",
        "                else:\n",
        "                    imputer = SimpleImputer(missing_values=np.nan, strategy='mean')\n",
        "                    data = df[c].values.reshape(-1, 1)\n",
        "                    imputed_values = imputer.fit_transform(data)\n",
        "                    df[c] = imputed_values\n",
        "    return df"
      ],
      "metadata": {
        "id": "7irEXZk4-M7Q"
      },
      "execution_count": null,
      "outputs": []
    },
    {
      "cell_type": "code",
      "source": [
        "X = process_na_columns(X)\n",
        "X_train, X_test, y_train, y_test = train_test_split(X, y, train_size=0.8)"
      ],
      "metadata": {
        "id": "1dro4MK1-QwD"
      },
      "execution_count": null,
      "outputs": []
    },
    {
      "cell_type": "markdown",
      "source": [
        "# KNN"
      ],
      "metadata": {
        "id": "iJ4EY6S6-Slp"
      }
    },
    {
      "cell_type": "code",
      "source": [
        "knn = KNeighborsClassifier()\n",
        "knn.fit(X_train, y_train)\n",
        "score = knn.score(X_test, y_test)"
      ],
      "metadata": {
        "id": "T4kLt8Xb-V2S"
      },
      "execution_count": null,
      "outputs": []
    },
    {
      "cell_type": "code",
      "source": [
        "print(\"Score:\", score*100, \"%\")"
      ],
      "metadata": {
        "id": "29pkrVtH-aXN",
        "outputId": "f1c5605c-a2c5-4ffe-e015-f9812da69fb1",
        "colab": {
          "base_uri": "https://localhost:8080/"
        }
      },
      "execution_count": null,
      "outputs": [
        {
          "output_type": "stream",
          "name": "stdout",
          "text": [
            "Score: 93.9209726443769 %\n"
          ]
        }
      ]
    }
  ]
}